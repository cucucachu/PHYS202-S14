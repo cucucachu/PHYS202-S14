{
 "metadata": {
  "name": "",
  "signature": "sha256:79a5b57d19773ae9f61f28bb213bab9d1be20c2e066d2374d5f833331a3df58d"
 },
 "nbformat": 3,
 "nbformat_minor": 0,
 "worksheets": [
  {
   "cells": [
    {
     "cell_type": "heading",
     "level": 1,
     "metadata": {},
     "source": [
      "SymPy Exercises"
     ]
    },
    {
     "cell_type": "code",
     "collapsed": false,
     "input": [
      "from IPython.html.widgets import interact\n",
      "from IPython.display import display"
     ],
     "language": "python",
     "metadata": {},
     "outputs": [],
     "prompt_number": 34
    },
    {
     "cell_type": "code",
     "collapsed": false,
     "input": [
      "%matplotlib inline\n",
      "import numpy as np\n",
      "import matplotlib.pyplot as plt"
     ],
     "language": "python",
     "metadata": {},
     "outputs": [],
     "prompt_number": 35
    },
    {
     "cell_type": "code",
     "collapsed": false,
     "input": [
      "from sympy import *\n",
      "init_printing(use_latex='mathjax')"
     ],
     "language": "python",
     "metadata": {},
     "outputs": [],
     "prompt_number": 36
    },
    {
     "cell_type": "heading",
     "level": 2,
     "metadata": {},
     "source": [
      "Question 1"
     ]
    },
    {
     "cell_type": "markdown",
     "metadata": {},
     "source": [
      "This question looks at a class of integrals that appears often in physics, the so called Gaussian integrals of the form:\n",
      "<br><br>\n",
      "$I_n(a) = \\int_{-\\infty}^{\\infty} z^n e^{-a z^2} dz$\n",
      "<br><br>\n",
      "(a) Define SymPy symbols for the following variables:\n",
      "z that is real\n",
      "a that is real and positive\n",
      "n that is a positive integer"
     ]
    },
    {
     "cell_type": "code",
     "collapsed": false,
     "input": [
      "z = Symbol('z', real=True)\n",
      "a = Symbol('a', real=True, positive=True)\n",
      "n = Symbol('n', integer=True, positive=True)"
     ],
     "language": "python",
     "metadata": {},
     "outputs": [],
     "prompt_number": 37
    },
    {
     "cell_type": "markdown",
     "metadata": {},
     "source": [
      "**(b)** Compute the integral $I_0(a)$ symbolically by passing the full integrand to the integrate function. Save the result as variable I0 and display it using IPython.display.display."
     ]
    },
    {
     "cell_type": "code",
     "collapsed": false,
     "input": [
      "In = integrate(z**n * exp(-a*z**2), (z, -oo, oo))"
     ],
     "language": "python",
     "metadata": {},
     "outputs": [],
     "prompt_number": 44
    },
    {
     "cell_type": "code",
     "collapsed": false,
     "input": [
      "I0 = In.subs(n, 0);"
     ],
     "language": "python",
     "metadata": {},
     "outputs": [],
     "prompt_number": 45
    },
    {
     "cell_type": "code",
     "collapsed": false,
     "input": [
      "display(IO)"
     ],
     "language": "python",
     "metadata": {},
     "outputs": [
      {
       "latex": [
        "$$\\frac{\\left(-1\\right)^{n}}{2 a} a^{- \\frac{n}{2} + \\frac{1}{2}} \\Gamma{\\left(\\frac{n}{2} + \\frac{1}{2} \\right)} + \\frac{a^{- \\frac{n}{2} + \\frac{1}{2}}}{2 a} \\Gamma{\\left(\\frac{n}{2} + \\frac{1}{2} \\right)}$$"
       ],
       "metadata": {},
       "output_type": "display_data",
       "text": [
        "         n   1               n   1         \n",
        "       - \u2500 + \u2500             - \u2500 + \u2500         \n",
        "    n    2   2  \u239bn   1\u239e      2   2  \u239bn   1\u239e\n",
        "(-1) \u22c5a       \u22c5\u0393\u239c\u2500 + \u2500\u239f   a       \u22c5\u0393\u239c\u2500 + \u2500\u239f\n",
        "                \u239d2   2\u23a0             \u239d2   2\u23a0\n",
        "\u2500\u2500\u2500\u2500\u2500\u2500\u2500\u2500\u2500\u2500\u2500\u2500\u2500\u2500\u2500\u2500\u2500\u2500\u2500\u2500\u2500\u2500\u2500 + \u2500\u2500\u2500\u2500\u2500\u2500\u2500\u2500\u2500\u2500\u2500\u2500\u2500\u2500\u2500\u2500\u2500\n",
        "          2\u22c5a                    2\u22c5a       "
       ]
      }
     ],
     "prompt_number": 46
    },
    {
     "cell_type": "markdown",
     "metadata": {},
     "source": [
      "**(c)** Verify that $I_m(a)=0$ if m is odd by computing the integral symbolically for m=[1,3,5,7,9]. Use a loop or other control structure to interate through values of m. Why should you not use the variable n for this part?"
     ]
    },
    {
     "cell_type": "code",
     "collapsed": false,
     "input": [
      "for i in range(1, 10, 2):\n",
      "    display(In.subs(n, i));"
     ],
     "language": "python",
     "metadata": {},
     "outputs": [
      {
       "latex": [
        "$$0$$"
       ],
       "metadata": {},
       "output_type": "display_data",
       "text": [
        "0"
       ]
      },
      {
       "latex": [
        "$$0$$"
       ],
       "metadata": {},
       "output_type": "display_data",
       "text": [
        "0"
       ]
      },
      {
       "latex": [
        "$$0$$"
       ],
       "metadata": {},
       "output_type": "display_data",
       "text": [
        "0"
       ]
      },
      {
       "latex": [
        "$$0$$"
       ],
       "metadata": {},
       "output_type": "display_data",
       "text": [
        "0"
       ]
      },
      {
       "latex": [
        "$$0$$"
       ],
       "metadata": {},
       "output_type": "display_data",
       "text": [
        "0"
       ]
      }
     ],
     "prompt_number": 47
    },
    {
     "cell_type": "markdown",
     "metadata": {},
     "source": [
      "**(d)** Define a symbolic expression, saved under the variable In, for the unevaluated integral $I_n(a)$ using SymPy's Integral class. Use symbolic manipulations to verify the following identity:\n",
      "<br><br>$I_2(a) = - \\frac{\\partial I_0}{\\partial a}$<br><br>\n",
      "It may be helpful to use Eq(lhs,rhs).doit() to verify mathematical equality."
     ]
    },
    {
     "cell_type": "code",
     "collapsed": false,
     "input": [
      "I2 = In.subs(n, 2);\n",
      "dI0_da = diff(I0, a);\n",
      "display(I2);\n",
      "display(dI0_da);\n",
      "if (I2 == -dI0_da):\n",
      "    print \"They are equal\";"
     ],
     "language": "python",
     "metadata": {},
     "outputs": [
      {
       "latex": [
        "$$\\frac{\\sqrt{\\pi}}{2 a^{\\frac{3}{2}}}$$"
       ],
       "metadata": {},
       "output_type": "display_data",
       "text": [
        "  ___ \n",
        "\u2572\u2571 \u03c0  \n",
        "\u2500\u2500\u2500\u2500\u2500\u2500\n",
        "   3/2\n",
        "2\u22c5a   "
       ]
      },
      {
       "latex": [
        "$$- \\frac{\\sqrt{\\pi}}{2 a^{\\frac{3}{2}}}$$"
       ],
       "metadata": {},
       "output_type": "display_data",
       "text": [
        "   ___ \n",
        "-\u2572\u2571 \u03c0  \n",
        "\u2500\u2500\u2500\u2500\u2500\u2500\u2500\n",
        "    3/2\n",
        " 2\u22c5a   "
       ]
      },
      {
       "output_type": "stream",
       "stream": "stdout",
       "text": [
        "They are equal\n"
       ]
      }
     ],
     "prompt_number": 52
    },
    {
     "cell_type": "heading",
     "level": 2,
     "metadata": {},
     "source": [
      "Question 2"
     ]
    },
    {
     "cell_type": "markdown",
     "metadata": {},
     "source": [
      "**(a)** Define and display the following matrix symbolically, where a is a positive real number:\n",
      "<br><br>$H = \\left[\\begin{matrix}- a + 1 & 0 & 0\\\\0 & 1 & a\\\\0 & a & 2\\end{matrix}\\right]$"
     ]
    },
    {
     "cell_type": "code",
     "collapsed": false,
     "input": [
      "H = Matrix([[-a + 1, 0, 0], [0, 1, a], [0, a, 2]]);\n",
      "H"
     ],
     "language": "python",
     "metadata": {},
     "outputs": [
      {
       "latex": [
        "$$\\left[\\begin{matrix}- a + 1 & 0 & 0\\\\0 & 1 & a\\\\0 & a & 2\\end{matrix}\\right]$$"
       ],
       "metadata": {},
       "output_type": "pyout",
       "prompt_number": 53,
       "text": [
        "\u23a1-a + 1  0  0\u23a4\n",
        "\u23a2            \u23a5\n",
        "\u23a2  0     1  a\u23a5\n",
        "\u23a2            \u23a5\n",
        "\u23a3  0     a  2\u23a6"
       ]
      }
     ],
     "prompt_number": 53
    },
    {
     "cell_type": "markdown",
     "metadata": {},
     "source": [
      "**(b)** Find the eigenvalues of H and store them in a list."
     ]
    },
    {
     "cell_type": "code",
     "collapsed": false,
     "input": [
      "eigens = H.eigenvals();\n",
      "display(eigens)"
     ],
     "language": "python",
     "metadata": {},
     "outputs": [
      {
       "latex": [
        "$$\\begin{Bmatrix}- a + 1 : 1, & - \\frac{1}{2} \\sqrt{4 a^{2} + 1} + \\frac{3}{2} : 1, & \\frac{1}{2} \\sqrt{4 a^{2} + 1} + \\frac{3}{2} : 1\\end{Bmatrix}$$"
       ],
       "metadata": {},
       "output_type": "display_data",
       "text": [
        "\u23a7                __________            __________       \u23ab\n",
        "\u23aa               \u2571    2                \u2571    2            \u23aa\n",
        "\u23a8             \u2572\u2571  4\u22c5a  + 1    3     \u2572\u2571  4\u22c5a  + 1    3   \u23ac\n",
        "\u23aa-a + 1: 1, - \u2500\u2500\u2500\u2500\u2500\u2500\u2500\u2500\u2500\u2500\u2500\u2500\u2500 + \u2500: 1, \u2500\u2500\u2500\u2500\u2500\u2500\u2500\u2500\u2500\u2500\u2500\u2500\u2500 + \u2500: 1\u23aa\n",
        "\u23a9                   2         2           2         2   \u23ad"
       ]
      }
     ],
     "prompt_number": 54
    },
    {
     "cell_type": "markdown",
     "metadata": {},
     "source": [
      "<p><strong>(c)</strong> Write a Python function with the signature shown below. This function should return two NumPy arrays, which, when passed to the <code>matplotlib.pyplot.plot</code> function will plot the expression as a function of the symbol over some range.</p>\n",
      "<pre class=\"sourceCode python\"><code class=\"sourceCode python\"><span class=\"kw\">def</span> expr_to_data(expr, lim, n=<span class=\"dv\">100</span>):\n",
      "<span class=\"co\">&quot;&quot;&quot;Evaluate an expression numerically over a range.</span>\n",
      "<span class=\"co\">    </span>\n",
      "<span class=\"co\">    Parameters</span>\n",
      "<span class=\"co\">    ----------</span>\n",
      "<span class=\"co\">    expr : Expr</span>\n",
      "<span class=\"co\">        A SymPy expression containing one free symbol, call it f(x).</span>\n",
      "<span class=\"co\">    lim : (x, xmin, xmax)</span>\n",
      "<span class=\"co\">        A 3-tuple of the symbol to use as the x variable and its xmin and</span>\n",
      "<span class=\"co\">        xmax values for numerical evaluation. In your function you can call</span>\n",
      "<span class=\"co\">        these &quot;x&quot;, but the user will be able to pass any symbol.</span>\n",
      "<span class=\"co\">    n : int</span>\n",
      "<span class=\"co\">        The number of points to use in evaluating the expression between</span>\n",
      "<span class=\"co\">        xmin and xmax.</span>\n",
      "<span class=\"co\">    </span>\n",
      "<span class=\"co\">    Returns</span>\n",
      "<span class=\"co\">    -------</span>\n",
      "<span class=\"co\">    A 2-tuple of NumPy arrays (x, f(x)), which, when passed to</span>\n",
      "<span class=\"co\">    matplotlib&#39;s plot function will plot the expression as a function of the</span>\n",
      "<span class=\"co\">    symbol.</span>\n",
      "<span class=\"co\">    &quot;&quot;&quot;</span></code></pre>\n",
      "<p>Use SymPy's <code>lambdify</code> function with <code>modules='numpy'</code> to build a function that can be used to evaluate the expression numerically. You will also have to perform the following logic on <code>xmin</code> and <code>xmax</code>:</p>\n",
      "<ul>\n",
      "<li>First convert to a SymPy object using <code>sympify</code>.</li>\n",
      "<li>Then produce a numerical value using <code>N/evalf</code>.</li>\n",
      "<li>Finally convert to a Python float using <code>float</code>.</li>\n",
      "</ul>\n",
      "<p>When working with SymPy and regular Python numbers at the same time, it is important to keep track of what types you have. You can always show the type using Python's <code>type</code> function.</p>"
     ]
    },
    {
     "cell_type": "code",
     "collapsed": false,
     "input": [
      "def expr_to_data(expr, lim, n=100):\n",
      "    \"\"\"Evaluate an expression numerically over a range.\n",
      "    \n",
      "    Parameters\n",
      "    ----------\n",
      "    expr : Expr\n",
      "        A SymPy expression containing one free symbol, call it f(x).\n",
      "    lim : (x, xmin, xmax)\n",
      "        A 3-tuple of the symbol to use as the x variable and its xmin and\n",
      "        xmax values for numerical evaluation. In your function you can call\n",
      "        these \"x\", but the user will be able to pass any symbol.\n",
      "    n : int\n",
      "        The number of points to use in evaluating the expression between\n",
      "        xmin and xmax.\n",
      "    \n",
      "    Returns\n",
      "    -------\n",
      "    A 2-tuple of NumPy arrays (x, f(x)), which, when passed to\n",
      "    matplotlib's plot function will plot the expression as a function of the\n",
      "    symbol.\n",
      "    \"\"\"\n",
      "    x,xmin,xmax = lim;\n",
      "    domain = np.linspace(xmin, xmax + xmax/n, n);\n",
      "    f = lambdify(x, expr, modules='numpy');\n",
      "    return domain, f(domain);\n",
      "    "
     ],
     "language": "python",
     "metadata": {},
     "outputs": [],
     "prompt_number": 71
    },
    {
     "cell_type": "code",
     "collapsed": false,
     "input": [
      "x = Symbol('x');\n",
      "dom,ran = expr_to_data(x**2, (x, 0, 1))\n",
      "plt.plot(dom,ran);"
     ],
     "language": "python",
     "metadata": {},
     "outputs": [
      {
       "metadata": {},
       "output_type": "pyout",
       "prompt_number": 76,
       "text": [
        "[<matplotlib.lines.Line2D at 0x437a2d0>]"
       ]
      },
      {
       "metadata": {},
       "output_type": "display_data",
       "png": "[encoded data removed]",
       "text": [
        "<matplotlib.figure.Figure at 0x418b190>"
       ]
      }
     ],
     "prompt_number": 76
    },
    {
     "cell_type": "code",
     "collapsed": false,
     "input": [
      "p = Symbol('p')\n",
      "assert len(expr_to_data(p, (p,0,1), n=10)) == 2\n",
      "assert len(expr_to_data(p, (p,0,1), n=10)[0]) == 10 and len(expr_to_data(p, (p,0,1), n=10)[1]) == 10\n",
      "assert np.all(expr_to_data(p, (p,0,1), n=10)[1] == np.linspace(0,1,10))\n",
      "assert np.all(expr_to_data(p**2, (p,0,1), n=10)[1] == np.linspace(0,1,10)**2)"
     ],
     "language": "python",
     "metadata": {},
     "outputs": [],
     "prompt_number": 77
    },
    {
     "cell_type": "markdown",
     "metadata": {},
     "source": [
      "**(d)** Use your expr_to_data function to generate data that can be used to plot the above eigenvalues as functions of the parameter a over the range [0,1]. The plots of all three eigenvalues should appear on the same plot."
     ]
    },
    {
     "cell_type": "code",
     "collapsed": false,
     "input": [
      "dom1,ran1 = expr_to_data(-a+1, (a, 0, 1));\n",
      "dom2,ran2 = expr_to_data(-.5*sqrt(4*a**2 + 1) +1.5, (a, 0, 1));\n",
      "dom3,ran3 = expr_to_data(-.5*sqrt(4*a**2 + 1) +1.5, (a, 0, 1));"
     ],
     "language": "python",
     "metadata": {},
     "outputs": [],
     "prompt_number": 81
    },
    {
     "cell_type": "code",
     "collapsed": false,
     "input": [
      "plt.plot(dom1, ran1, label=\"Eigen value 1\");\n",
      "plt.plot(dom2, ran2, label=\"Eigen value 2\");\n",
      "plt.plot(dom3, ran3, label=\"Eigen value 3\");\n",
      "plt.legend(loc=\"best\");\n",
      "plt.show();"
     ],
     "language": "python",
     "metadata": {},
     "outputs": [
      {
       "metadata": {},
       "output_type": "display_data",
       "png": "[encoded data removed]",
       "text": [
        "<matplotlib.figure.Figure at 0x3cad110>"
       ]
      }
     ],
     "prompt_number": 93
    },
    {
     "cell_type": "code",
     "collapsed": false,
     "input": [],
     "language": "python",
     "metadata": {},
     "outputs": []
    }
   ],
   "metadata": {}
  }
 ]
}