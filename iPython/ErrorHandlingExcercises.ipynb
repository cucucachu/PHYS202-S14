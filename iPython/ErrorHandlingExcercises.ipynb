{
 "metadata": {
  "name": "",
  "signature": "sha256:37f5c7019a477c4f0e0479ddaa4f00dc6ebc203649d9b6903645632a08594340"
 },
 "nbformat": 3,
 "nbformat_minor": 0,
 "worksheets": [
  {
   "cells": [
    {
     "cell_type": "heading",
     "level": 1,
     "metadata": {},
     "source": [
      "Error Handling Excersizes"
     ]
    },
    {
     "cell_type": "markdown",
     "metadata": {},
     "source": [
      "<p><strong>1.</strong> Find a partner. Choose a driver and a navigator. The driver should copy their Battleship code to a cell in the driver's <code>ErrorHandlingExercises</code> notebook. The driver should explain to the navigator the basics of how their program works. Work together to add some error handling to the program. Include a markdown cell identifying the driver and navigator. When you are done, switch roles and let the navigator be the driver and vice versa. At the end you should both have a Battleship program that includes some error handling.</p>"
     ]
    },
    {
     "cell_type": "markdown",
     "metadata": {},
     "source": [
      "<p><strong>2.</strong> Here is a function which takes a filename, opens the file, reads the result, closes the file, and returns the contents. It should look something like this:</p>"
     ]
    },
    {
     "cell_type": "markdown",
     "metadata": {},
     "source": [
      "<p>Use runtime error handling concepts to improve this function, so that it does the following:</p>\n",
      "<ul>\n",
      "<li>raises an informative custom error if the file doesn't exist</li>\n",
      "<li>uses <code>try</code>, <code>except</code>, <code>else</code>, and/or <code>finally</code> to safely return the file's contents &amp; close the file if necessary.</li>\n",
      "<li>add a keyword <code>safe</code> which defaults to <code>False</code>. If the function is called with <code>safe=True</code>, then return an empty string if the file doesn't exist.</li>\n",
      "</ul>"
     ]
    },
    {
     "cell_type": "code",
     "collapsed": false,
     "input": [],
     "language": "python",
     "metadata": {},
     "outputs": []
    }
   ],
   "metadata": {}
  }
 ]
}