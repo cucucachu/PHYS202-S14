{
 "metadata": {
  "name": "",
  "signature": "sha256:a5aa45becdbb2ec09ed1b56ebed8f92fd175d74001ef7b2fb175c3d41cc0c585"
 },
 "nbformat": 3,
 "nbformat_minor": 0,
 "worksheets": [
  {
   "cells": [
    {
     "cell_type": "heading",
     "level": 1,
     "metadata": {},
     "source": [
      "Project Euler Problem 17"
     ]
    },
    {
     "cell_type": "markdown",
     "metadata": {},
     "source": [
      "<div id=\"content\">\n",
      "<h2>Number letter counts</h2><div id=\"problem_info\" class=\"info\"><h3>Problem 17</h3>\n",
      "<div class=\"problem_content\" role=\"problem\">\n",
      "<p>If the numbers 1 to 5 are written out in words: one, two, three, four, five, then there are 3 + 3 + 5 + 4 + 4 = 19 letters used in total.</p>\n",
      "<p>If all the numbers from 1 to 1000 (one thousand) inclusive were written out in words, how many letters would be used? </p>\n",
      "<br>\n",
      "<p class=\"note\"><b>NOTE:</b> Do not count spaces or hyphens. For example, 342 (three hundred and forty-two) contains 23 letters and 115 (one hundred and fifteen) contains 20 letters. The use of \"and\" when writing out numbers is in compliance with British usage.</p>\n",
      "</div><br>\n",
      "<br></div>"
     ]
    },
    {
     "cell_type": "markdown",
     "metadata": {},
     "source": [
      "Here is a function that writes a number as a string."
     ]
    },
    {
     "cell_type": "code",
     "collapsed": false,
     "input": [
      "def WriteNumber(num):\n",
      "    \"\"\"Writes a number between 1 and 1000 as a word with no spaces and no hyphens\"\"\"\n",
      "    \n",
      "    ones = [\"\", \"one\", \"two\", \"three\", \"four\", \"five\", \"six\", \"seven\", \"eight\", \"nine\"];\n",
      "    teens = [\"ten\", \"eleven\", \"twelve\", \"thirteen\", \"fourteen\", \"fifteen\", \"sixteen\",\\\n",
      "             \"seventeen\", \"eighteen\", \"nineteen\"];\n",
      "    tens = [\"twenty\", \"thirty\", \"forty\", \"fifty\", \"sixty\", \"seventy\", \"eighty\", \"ninety\"];\n",
      "    hundred = \"hundred\";\n",
      "    thousand = \"thousand\";\n",
      "\n",
      "    word = \"\";\n",
      "    if num == 1000:\n",
      "        word = thousand;\n",
      "    else:\n",
      "        if (num >= 100):\n",
      "            word += ones[num / 100];\n",
      "            word += hundred;\n",
      "            if (num % 100):\n",
      "                word += \"and\";\n",
      "        if (num % 100 > 19):\n",
      "            word += tens[((num % 100) / 10) - 2]\n",
      "\n",
      "        if (num % 100 <= 19 and num % 100 > 9):\n",
      "            word += teens[num % 100 - 10];\n",
      "        else:\n",
      "            word += ones[num % 10];\n",
      "    return word;"
     ],
     "language": "python",
     "metadata": {},
     "outputs": [],
     "prompt_number": 29
    },
    {
     "cell_type": "markdown",
     "metadata": {},
     "source": [
      "Here is some tests of my WriteNumber function"
     ]
    },
    {
     "cell_type": "code",
     "collapsed": false,
     "input": [
      "print WriteNumber(238);\n",
      "print WriteNumber(167);\n",
      "print WriteNumber(100);\n",
      "print WriteNumber(900);\n",
      "print WriteNumber(1000);\n",
      "print WriteNumber(18);\n",
      "print WriteNumber(37);\n",
      "print WriteNumber(812);"
     ],
     "language": "python",
     "metadata": {},
     "outputs": [
      {
       "output_type": "stream",
       "stream": "stdout",
       "text": [
        "twohundredandthirtyeight\n",
        "onehundredandsixtyseven\n",
        "onehundred\n",
        "ninehundred\n",
        "thousand\n",
        "eighteen\n",
        "thirtyseven\n",
        "eighthundredandtwelve\n"
       ]
      }
     ],
     "prompt_number": 31
    },
    {
     "cell_type": "code",
     "collapsed": false,
     "input": [
      "def CountLetters(end):\n",
      "    total = 0;\n",
      "    for i in range(1, end+1):\n",
      "        total += len(WriteNumber(i));\n",
      "    return total;"
     ],
     "language": "python",
     "metadata": {},
     "outputs": [],
     "prompt_number": 32
    },
    {
     "cell_type": "markdown",
     "metadata": {},
     "source": [
      "Here is a test of the CountLetters() function with 5 as the input. The answer should be 19"
     ]
    },
    {
     "cell_type": "code",
     "collapsed": false,
     "input": [
      "print \"This should say 19:\",CountLetters(5);"
     ],
     "language": "python",
     "metadata": {},
     "outputs": [
      {
       "output_type": "stream",
       "stream": "stdout",
       "text": [
        "This should say 19: 19\n"
       ]
      }
     ],
     "prompt_number": 33
    },
    {
     "cell_type": "code",
     "collapsed": false,
     "input": [
      "print \"The answer to project Euler 17 is\",CountLetters(1000);"
     ],
     "language": "python",
     "metadata": {},
     "outputs": [
      {
       "output_type": "stream",
       "stream": "stdout",
       "text": [
        "The answer to project Euler 17 is 21121\n"
       ]
      }
     ],
     "prompt_number": 34
    },
    {
     "cell_type": "code",
     "collapsed": false,
     "input": [],
     "language": "python",
     "metadata": {},
     "outputs": []
    }
   ],
   "metadata": {}
  }
 ]
}