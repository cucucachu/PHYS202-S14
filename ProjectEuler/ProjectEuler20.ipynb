{
 "metadata": {
  "name": "",
  "signature": "sha256:99aea3848c258f06769e43c1916220ca3ddabc3a6978afb432bb924ffe198ec0"
 },
 "nbformat": 3,
 "nbformat_minor": 0,
 "worksheets": [
  {
   "cells": [
    {
     "cell_type": "heading",
     "level": 1,
     "metadata": {},
     "source": [
      "Project Euler"
     ]
    },
    {
     "cell_type": "markdown",
     "metadata": {},
     "source": [
      "<h2>Factorial Digit Sum</h2>"
     ]
    },
    {
     "cell_type": "markdown",
     "metadata": {},
     "source": [
      "Find the sum of the digits in the number 100!"
     ]
    },
    {
     "cell_type": "code",
     "collapsed": false,
     "input": [
      "def FactorialDigitSum(base):\n",
      "    num = 1;\n",
      "    for i in range (base, 1, -1):\n",
      "        num = num * i;\n",
      "    sum = 0;\n",
      "    digits = 1;\n",
      "    while (num / (10 ** digits) > 0):\n",
      "        digits += 1;\n",
      "    for i in range(digits):\n",
      "        sum += num % (10**(i + 1)) / (10**i);\n",
      "    return sum;"
     ],
     "language": "python",
     "metadata": {},
     "outputs": [],
     "prompt_number": 7
    },
    {
     "cell_type": "code",
     "collapsed": false,
     "input": [
      "print \"The sum of the digits in 10! should be 27, My function says:\",FactorialDigitSum(10);"
     ],
     "language": "python",
     "metadata": {},
     "outputs": [
      {
       "output_type": "stream",
       "stream": "stdout",
       "text": [
        "The sum of the digits in 10! should be 27, My function says: 27\n"
       ]
      }
     ],
     "prompt_number": 8
    },
    {
     "cell_type": "code",
     "collapsed": false,
     "input": [
      "print \"The sum of the digits in 12! should be 27, My function says:\",FactorialDigitSum(12);"
     ],
     "language": "python",
     "metadata": {},
     "outputs": [
      {
       "output_type": "stream",
       "stream": "stdout",
       "text": [
        "The sum of the digits in 12! should be 27, My function says: 27\n"
       ]
      }
     ],
     "prompt_number": 11
    },
    {
     "cell_type": "code",
     "collapsed": false,
     "input": [
      "print \"The sum of the digits in 12! should be 45, My function says:\",FactorialDigitSum(14);"
     ],
     "language": "python",
     "metadata": {},
     "outputs": [
      {
       "output_type": "stream",
       "stream": "stdout",
       "text": [
        "The sum of the digits in 12! should be 45, My function says: 45\n"
       ]
      }
     ],
     "prompt_number": 13
    },
    {
     "cell_type": "code",
     "collapsed": false,
     "input": [
      "print \"The sum of the digits in 100! is:\",FactorialDigitSum(100);"
     ],
     "language": "python",
     "metadata": {},
     "outputs": [
      {
       "output_type": "stream",
       "stream": "stdout",
       "text": [
        "The sum of the digits in 100! is: 648\n"
       ]
      }
     ],
     "prompt_number": 12
    }
   ],
   "metadata": {}
  }
 ]
}