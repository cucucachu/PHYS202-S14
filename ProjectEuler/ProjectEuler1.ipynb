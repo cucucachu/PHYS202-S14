{
 "metadata": {
  "name": "",
  "signature": "sha256:327ab177d407bcd6ef9a990880377a6e7acaa7e86c70e9abe994e93555c0ce3f"
 },
 "nbformat": 3,
 "nbformat_minor": 0,
 "worksheets": [
  {
   "cells": [
    {
     "cell_type": "heading",
     "level": 1,
     "metadata": {},
     "source": [
      "Multiples of 3 and 5"
     ]
    },
    {
     "cell_type": "heading",
     "level": 4,
     "metadata": {},
     "source": [
      "Problem 1"
     ]
    },
    {
     "cell_type": "markdown",
     "metadata": {},
     "source": [
      "If we list all the natural numbers below 10 that are multiples of 3 or 5, we get 3, 5, 6 and 9. The sum of these multiples is 23.\n",
      "\n",
      "Find the sum of all the multiples of 3 or 5 below 1000."
     ]
    },
    {
     "cell_type": "markdown",
     "metadata": {},
     "source": [
      "**Driver**: Cody\n",
      "**Navigator**: Justin"
     ]
    },
    {
     "cell_type": "code",
     "collapsed": false,
     "input": [
      "def sum_three_and_five(limit):\n",
      "    sum1 = 0\n",
      "    for num in range(limit):\n",
      "        if num % 3 == 0 or num % 5 == 0:\n",
      "            sum1 += num\n",
      "    return sum1\n",
      "\n",
      "\n",
      "print \"The sum of all multiles of 3 or 5 below 10 is\", sum_three_and_five(10)\n",
      "print \"The sum of all multiles of 3 or 5 below 1000 is\", sum_three_and_five(1000)"
     ],
     "language": "python",
     "metadata": {},
     "outputs": [
      {
       "output_type": "stream",
       "stream": "stdout",
       "text": [
        "The sum of all multiles of 3 or 5 below 10 is 23\n",
        "The sum of all multiles of 3 or 5 below 1000 is 233168\n"
       ]
      }
     ],
     "prompt_number": 6
    },
    {
     "cell_type": "code",
     "collapsed": false,
     "input": [],
     "language": "python",
     "metadata": {},
     "outputs": []
    },
    {
     "cell_type": "code",
     "collapsed": false,
     "input": [],
     "language": "python",
     "metadata": {},
     "outputs": []
    }
   ],
   "metadata": {}
  }
 ]
}