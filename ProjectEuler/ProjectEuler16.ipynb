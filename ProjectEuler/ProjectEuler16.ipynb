{
 "metadata": {
  "name": "",
  "signature": "sha256:e5015c8d94b8df9614fb5e2f6b42e7c19d523eb59ba4d60d88d9826d5df22712"
 },
 "nbformat": 3,
 "nbformat_minor": 0,
 "worksheets": [
  {
   "cells": [
    {
     "cell_type": "heading",
     "level": 1,
     "metadata": {},
     "source": [
      "Project Euler Problem 16 - Power Digit Sum"
     ]
    },
    {
     "cell_type": "markdown",
     "metadata": {},
     "source": [
      "2**15 = 32768 and the sum of its digits is 3 + 2 + 7 + 6 + 8 = 26.\n",
      "\n",
      "What is the sum of the digits of the number 2**1000?"
     ]
    },
    {
     "cell_type": "code",
     "collapsed": false,
     "input": [
      "def PowerDigitSum(exponent):\n",
      "    num = 2 ** exponent;\n",
      "    sum = 0;\n",
      "    digits = 1;\n",
      "    while (num / (10 ** digits) > 0):\n",
      "        digits += 1;\n",
      "    for i in range(digits):\n",
      "        sum += num % (10**(i + 1)) / (10**i);\n",
      "    return sum;"
     ],
     "language": "python",
     "metadata": {},
     "outputs": [],
     "prompt_number": 13
    },
    {
     "cell_type": "code",
     "collapsed": false,
     "input": [
      "print \"The power digit sum of 2 ** 15 should be 26, my function returns\", PowerDigitSum(15)"
     ],
     "language": "python",
     "metadata": {},
     "outputs": [
      {
       "output_type": "stream",
       "stream": "stdout",
       "text": [
        "The power digit sum of 2 ** 15 should be 26, my function returns 26\n"
       ]
      }
     ],
     "prompt_number": 14
    },
    {
     "cell_type": "code",
     "collapsed": false,
     "input": [
      "print \"The power digit sum of 2 ** 16 should be 25, my function returns\", PowerDigitSum(16)"
     ],
     "language": "python",
     "metadata": {},
     "outputs": [
      {
       "output_type": "stream",
       "stream": "stdout",
       "text": [
        "The power digit sum of 2 ** 16 should be 25, my function returns 25\n"
       ]
      }
     ],
     "prompt_number": 15
    },
    {
     "cell_type": "code",
     "collapsed": false,
     "input": [
      "print \"The power digit sum of 2 ** 1000 is\", PowerDigitSum(1000)"
     ],
     "language": "python",
     "metadata": {},
     "outputs": [
      {
       "output_type": "stream",
       "stream": "stdout",
       "text": [
        "The power digit sum of 2 ** 1000 is 1366\n"
       ]
      }
     ],
     "prompt_number": 16
    },
    {
     "cell_type": "code",
     "collapsed": false,
     "input": [],
     "language": "python",
     "metadata": {},
     "outputs": []
    }
   ],
   "metadata": {}
  }
 ]
}