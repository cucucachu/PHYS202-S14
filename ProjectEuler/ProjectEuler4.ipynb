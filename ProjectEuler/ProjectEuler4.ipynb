{
 "metadata": {
  "name": "",
  "signature": "sha256:07a5475c59ec0270c652ed5e467bbeaf785bc3ef69a619b7019d24811d043630"
 },
 "nbformat": 3,
 "nbformat_minor": 0,
 "worksheets": [
  {
   "cells": [
    {
     "cell_type": "heading",
     "level": 1,
     "metadata": {},
     "source": [
      "Project Euler Problem 4"
     ]
    },
    {
     "cell_type": "heading",
     "level": 2,
     "metadata": {},
     "source": [
      "Largest Palindrome Product"
     ]
    },
    {
     "cell_type": "markdown",
     "metadata": {},
     "source": [
      "A palindromic number reads the same both ways. The largest palindrome made from the product of two 2-digit numbers is 9009 = 91 \u00d7 99.\n",
      "\n",
      "Find the largest palindrome made from the product of two 3-digit numbers."
     ]
    },
    {
     "cell_type": "code",
     "collapsed": false,
     "input": [
      "import numpy as np;"
     ],
     "language": "python",
     "metadata": {},
     "outputs": [],
     "prompt_number": 2
    },
    {
     "cell_type": "heading",
     "level": 5,
     "metadata": {},
     "source": [
      "A function which counts the digits in a number:"
     ]
    },
    {
     "cell_type": "code",
     "collapsed": false,
     "input": [
      "def countDigits(num):\n",
      "    digits = 0;\n",
      "    if (num == 0):\n",
      "        return 0;\n",
      "    while(num / 10**digits):\n",
      "        digits = digits + 1;\n",
      "    return digits;"
     ],
     "language": "python",
     "metadata": {},
     "outputs": [],
     "prompt_number": 1
    },
    {
     "cell_type": "heading",
     "level": 5,
     "metadata": {},
     "source": [
      "Testing countDigits():"
     ]
    },
    {
     "cell_type": "code",
     "collapsed": false,
     "input": [
      "print countDigits(1);"
     ],
     "language": "python",
     "metadata": {},
     "outputs": [
      {
       "output_type": "stream",
       "stream": "stdout",
       "text": [
        "1\n"
       ]
      }
     ],
     "prompt_number": 6
    },
    {
     "cell_type": "code",
     "collapsed": false,
     "input": [
      "print countDigits(0);"
     ],
     "language": "python",
     "metadata": {},
     "outputs": [
      {
       "output_type": "stream",
       "stream": "stdout",
       "text": [
        "0\n"
       ]
      }
     ],
     "prompt_number": 7
    },
    {
     "cell_type": "code",
     "collapsed": false,
     "input": [
      "print countDigits(22);"
     ],
     "language": "python",
     "metadata": {},
     "outputs": [
      {
       "output_type": "stream",
       "stream": "stdout",
       "text": [
        "2\n"
       ]
      }
     ],
     "prompt_number": 8
    },
    {
     "cell_type": "code",
     "collapsed": false,
     "input": [
      "print countDigits(1234567890);"
     ],
     "language": "python",
     "metadata": {},
     "outputs": [
      {
       "output_type": "stream",
       "stream": "stdout",
       "text": [
        "10\n"
       ]
      }
     ],
     "prompt_number": 9
    },
    {
     "cell_type": "heading",
     "level": 5,
     "metadata": {},
     "source": [
      "A function which reverses the digits in a number:"
     ]
    },
    {
     "cell_type": "code",
     "collapsed": false,
     "input": [
      "def reverse(num, digits):\n",
      "    numbers = [];\n",
      "    curDigit = 0;\n",
      "    value = 0;\n",
      "    \n",
      "    while (curDigit < digits):\n",
      "        numbers.append(num % 10);\n",
      "        num = num / 10;\n",
      "        curDigit = curDigit + 1;\n",
      "    \n",
      "    for number in numbers:\n",
      "        value = value + number * 10**(curDigit - 1);\n",
      "        curDigit = curDigit - 1;\n",
      "\n",
      "    return value;"
     ],
     "language": "python",
     "metadata": {},
     "outputs": [],
     "prompt_number": 3
    },
    {
     "cell_type": "heading",
     "level": 5,
     "metadata": {},
     "source": [
      "Testing reverse():"
     ]
    },
    {
     "cell_type": "code",
     "collapsed": false,
     "input": [
      "print reverse(0, 0);"
     ],
     "language": "python",
     "metadata": {},
     "outputs": [
      {
       "output_type": "stream",
       "stream": "stdout",
       "text": [
        "0\n"
       ]
      }
     ],
     "prompt_number": 13
    },
    {
     "cell_type": "code",
     "collapsed": false,
     "input": [
      "print reverse(1, 1);"
     ],
     "language": "python",
     "metadata": {},
     "outputs": [
      {
       "output_type": "stream",
       "stream": "stdout",
       "text": [
        "1\n"
       ]
      }
     ],
     "prompt_number": 17
    },
    {
     "cell_type": "code",
     "collapsed": false,
     "input": [
      "print reverse(123, 3);"
     ],
     "language": "python",
     "metadata": {},
     "outputs": [
      {
       "output_type": "stream",
       "stream": "stdout",
       "text": [
        "321\n"
       ]
      }
     ],
     "prompt_number": 16
    },
    {
     "cell_type": "code",
     "collapsed": false,
     "input": [
      "#reversing 0123\n",
      "print reverse(123, 4);"
     ],
     "language": "python",
     "metadata": {},
     "outputs": [
      {
       "output_type": "stream",
       "stream": "stdout",
       "text": [
        "3210\n"
       ]
      }
     ],
     "prompt_number": 14
    },
    {
     "cell_type": "code",
     "collapsed": false,
     "input": [
      "print reverse(102030, 6)"
     ],
     "language": "python",
     "metadata": {},
     "outputs": [
      {
       "output_type": "stream",
       "stream": "stdout",
       "text": [
        "30201\n"
       ]
      }
     ],
     "prompt_number": 18
    },
    {
     "cell_type": "code",
     "collapsed": false,
     "input": [
      "print reverse(123456, 6);"
     ],
     "language": "python",
     "metadata": {},
     "outputs": [
      {
       "output_type": "stream",
       "stream": "stdout",
       "text": [
        "654321\n"
       ]
      }
     ],
     "prompt_number": 11
    },
    {
     "cell_type": "heading",
     "level": 5,
     "metadata": {},
     "source": [
      "A function which tests whether a number is a palindrome or not:"
     ]
    },
    {
     "cell_type": "code",
     "collapsed": false,
     "input": [
      "def isPalindrome(num):\n",
      "    digits = countDigits(num);\n",
      "    if (num == 0 or num == 1):\n",
      "        return True;\n",
      "    else:\n",
      "        if (digits % 2): #num has an odd number of digits\n",
      "            left = num / (10**(digits / 2 + 1));\n",
      "        else:\n",
      "            left = num / (10**(digits / 2));\n",
      "        right = num % (10**(digits / 2));\n",
      "        right = reverse(right, digits / 2);\n",
      "        if (left == right):\n",
      "            return True;\n",
      "        else:\n",
      "            return False;\n"
     ],
     "language": "python",
     "metadata": {},
     "outputs": [],
     "prompt_number": 4
    },
    {
     "cell_type": "heading",
     "level": 5,
     "metadata": {},
     "source": [
      "Testing isPalindrome():"
     ]
    },
    {
     "cell_type": "code",
     "collapsed": false,
     "input": [
      "print isPalindrome(0),\"True\";\n",
      "print isPalindrome(1),\"True\";\n",
      "print isPalindrome(22),\"True\";\n",
      "print isPalindrome(21),\"False\";\n",
      "print isPalindrome(314),\"False\";\n",
      "print isPalindrome(4224),\"True\";\n",
      "print isPalindrome(42324),\"True\";"
     ],
     "language": "python",
     "metadata": {},
     "outputs": [
      {
       "output_type": "stream",
       "stream": "stdout",
       "text": [
        "True True\n",
        "True True\n",
        "True True\n",
        "False False\n",
        "False False\n",
        "True True\n",
        "True True\n"
       ]
      }
     ],
     "prompt_number": 19
    },
    {
     "cell_type": "heading",
     "level": 5,
     "metadata": {},
     "source": [
      "A function which finds the largest palindrome product given two ranges of numbers:"
     ]
    },
    {
     "cell_type": "code",
     "collapsed": false,
     "input": [
      "def largestPalindromeProduct(min1, max1, min2, max2):\n",
      "    range1 = np.arange(min1, max1 + 1)[::-1];\n",
      "    range2 = np.arange(min2, max2 + 1)[::-1];\n",
      "    iterations = 0;\n",
      "    largest = 0;\n",
      "    arg1 = 0;\n",
      "    arg2 = 0;\n",
      "    \n",
      "    for num1 in range1:\n",
      "        for num2 in range2:\n",
      "            product = num1 * num2;\n",
      "            if (isPalindrome(product)):\n",
      "                if (product > largest):\n",
      "                    largest = product;\n",
      "                    arg1 = num1;\n",
      "                    arg2 = num2;\n",
      "            if (num2 < num2 - ((num1 + num2)/2)):\n",
      "                break;\n",
      "        if (num1 < num1 - ((num1 + num2)/2)):\n",
      "            break;\n",
      "        iterations = iterations + 1;\n",
      "    \n",
      "    return largest, arg1, arg2;"
     ],
     "language": "python",
     "metadata": {},
     "outputs": [],
     "prompt_number": 5
    },
    {
     "cell_type": "heading",
     "level": 5,
     "metadata": {},
     "source": [
      "Let's test for the example given in the problem, the largest palindrome product of two two-digit numbers:"
     ]
    },
    {
     "cell_type": "code",
     "collapsed": false,
     "input": [
      "largest,num1,num2 = largestPalindromeProduct(10, 99, 10, 99);\n",
      "print \"The largest palindrome product is %d = %d * %d\" % (largest, num1, num2);"
     ],
     "language": "python",
     "metadata": {},
     "outputs": [
      {
       "output_type": "stream",
       "stream": "stdout",
       "text": [
        "The largest palindrome product is 9009 = 99 * 91\n"
       ]
      }
     ],
     "prompt_number": 20
    },
    {
     "cell_type": "heading",
     "level": 5,
     "metadata": {},
     "source": [
      "Now lets find the largest palindrome product of two three-digit numbers:"
     ]
    },
    {
     "cell_type": "code",
     "collapsed": false,
     "input": [
      "largest,num1,num2 = largestPalindromeProduct(100, 999, 100, 999);\n",
      "print \"The largest palindrome product is %d = %d * %d\" % (largest, num1, num2);"
     ],
     "language": "python",
     "metadata": {},
     "outputs": [
      {
       "output_type": "stream",
       "stream": "stdout",
       "text": [
        "The largest palindrome product is 906609 = 993 * 913\n"
       ]
      }
     ],
     "prompt_number": 21
    }
   ],
   "metadata": {}
  }
 ]
}