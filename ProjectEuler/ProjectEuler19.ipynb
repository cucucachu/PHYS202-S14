{
 "metadata": {
  "name": "",
  "signature": "sha256:621c6a5d531b52885e6275891114399caea8a5f4f8e8df2e9f09faeb5391505e"
 },
 "nbformat": 3,
 "nbformat_minor": 0,
 "worksheets": [
  {
   "cells": [
    {
     "cell_type": "markdown",
     "metadata": {},
     "source": [
      "<div id=\"content\">\n",
      "<h2>Counting Sundays</h2><div id=\"problem_info\" class=\"info\"><h3>Problem 19</h3><span>Published on Friday, 14th June 2002, 06:00 pm; Solved by 66341</span></div>\n",
      "<div class=\"problem_content\" role=\"problem\">\n",
      "\n",
      "<p>You are given the following information, but you may prefer to do some research for yourself.</p>\n",
      "<ul>\n",
      "<li>1 Jan 1900 was a Monday.</li>\n",
      "<li>Thirty days has September,</li>\n",
      "<li>April, June and November.</li>\n",
      "<li>All the rest have thirty-one,<br>\n",
      "<li>Saving February alone,<br>\n",
      "<li>Which has twenty-eight, rain or shine.<br>\n",
      "<li>And on leap years, twenty-nine.</li>\n",
      "<li>A leap year occurs on any year evenly divisible by 4, but not on a century unless it is divisible by 400.</li>\n",
      "</ul>\n",
      "<p>How many Sundays fell on the first of the month during the twentieth century (1 Jan 1901 to 31 Dec 2000)?</p>\n",
      "\n",
      "</div><br>\n",
      "<br></div>"
     ]
    },
    {
     "cell_type": "code",
     "collapsed": false,
     "input": [
      "years = range(1901, 2001);\n",
      "month = 0;\n",
      "day = 365 % 7;\n",
      "sunday = day - 1;\n",
      "count = 0;\n",
      "\n",
      "\n",
      "for year in years:\n",
      "    for month in range(12):\n",
      "        if month == 9 or month == 4 or month == 6 or month == 11:\n",
      "            day += 30;\n",
      "        elif month == 2:\n",
      "            if year % 4 == 0:\n",
      "                day += 29;\n",
      "            else:\n",
      "                day += 28;\n",
      "        else:\n",
      "            day += 31;\n",
      "        if day % 7 == sunday:\n",
      "            count += 1;\n",
      "\n",
      "print \"There were %d Sundays on the 1st of the month in the 20th Century\" % count;"
     ],
     "language": "python",
     "metadata": {},
     "outputs": [
      {
       "output_type": "stream",
       "stream": "stdout",
       "text": [
        "There were 173 Sundays on the 1st of the month in the 20th Century\n"
       ]
      }
     ],
     "prompt_number": 7
    },
    {
     "cell_type": "code",
     "collapsed": false,
     "input": [],
     "language": "python",
     "metadata": {},
     "outputs": []
    }
   ],
   "metadata": {}
  }
 ]
}