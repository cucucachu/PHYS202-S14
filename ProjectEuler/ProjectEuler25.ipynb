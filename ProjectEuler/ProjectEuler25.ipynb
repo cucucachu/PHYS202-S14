{
 "metadata": {
  "name": "",
  "signature": "sha256:1465326d22a48f42772dbec6a2b766a052e75ba96dcccdd7e8097ebee2faebc6"
 },
 "nbformat": 3,
 "nbformat_minor": 0,
 "worksheets": [
  {
   "cells": [
    {
     "cell_type": "heading",
     "level": 1,
     "metadata": {},
     "source": [
      "Project Euler"
     ]
    },
    {
     "cell_type": "heading",
     "level": 2,
     "metadata": {},
     "source": [
      "Problem 25"
     ]
    },
    {
     "cell_type": "markdown",
     "metadata": {},
     "source": [
      "<div class=\"problem_content\" role=\"problem\">\n",
      "<p>The Fibonacci sequence is defined by the recurrence relation:</p>\n",
      "<blockquote>F<sub><i>n</i></sub> = F<sub><i>n</i> - 1</sub> + F<sub><i>n</i>- 2</sub>, where F<sub>1</sub> = 1 and F<sub>2</sub> = 1.</blockquote>\n",
      "<p>Hence the first 12 terms will be:</p>\n",
      "<blockquote>F<sub>1</sub> = 1<br>\n",
      "F<sub>2</sub> = 1<br>\n",
      "F<sub>3</sub> = 2<br>\n",
      "F<sub>4</sub> = 3<br>\n",
      "F<sub>5</sub> = 5<br>\n",
      "F<sub>6</sub> = 8<br>\n",
      "F<sub>7</sub> = 13<br>\n",
      "F<sub>8</sub> = 21<br>\n",
      "F<sub>9</sub> = 34<br>\n",
      "F<sub>10</sub> = 55<br>\n",
      "F<sub>11</sub> = 89<br>\n",
      "F<sub>12</sub> = 144</blockquote>\n",
      "<p>The 12th term, F<sub>12</sub>, is the first term to contain three digits.</p>\n",
      "<p>What is the first term in the Fibonacci sequence to contain 1000 digits?</p>\n",
      "\n",
      "</div>"
     ]
    },
    {
     "cell_type": "code",
     "collapsed": false,
     "input": [
      "def fib(a, b, n, numDigits):\n",
      "    if b < 10**(numDigits - 1):\n",
      "        return fib(b, a + b, n + 1, numDigits);\n",
      "    else:\n",
      "        print \"fib %d is the first with %d digits\" % (n, numDigits);\n",
      "    return n;"
     ],
     "language": "python",
     "metadata": {},
     "outputs": [],
     "prompt_number": 3
    },
    {
     "cell_type": "code",
     "collapsed": false,
     "input": [
      "sequence = [];\n",
      "\n",
      "for i in range(100):\n",
      "    sequence.append(fib(1,1,2,i));\n",
      "    \n",
      "print sequence"
     ],
     "language": "python",
     "metadata": {},
     "outputs": [
      {
       "output_type": "stream",
       "stream": "stdout",
       "text": [
        "fib 2 is the first with 0 digits\n",
        "fib 2 is the first with 1 digits\n",
        "fib 7 is the first with 2 digits\n",
        "fib 12 is the first with 3 digits\n",
        "fib 17 is the first with 4 digits\n",
        "fib 21 is the first with 5 digits\n",
        "fib 26 is the first with 6 digits\n",
        "fib 31 is the first with 7 digits\n",
        "fib 36 is the first with 8 digits\n",
        "fib 40 is the first with 9 digits\n",
        "fib 45 is the first with 10 digits\n",
        "fib 50 is the first with 11 digits\n",
        "fib 55 is the first with 12 digits\n",
        "fib 60 is the first with 13 digits\n",
        "fib 64 is the first with 14 digits\n",
        "fib 69 is the first with 15 digits\n",
        "fib 74 is the first with 16 digits\n",
        "fib 79 is the first with 17 digits\n",
        "fib 84 is the first with 18 digits\n",
        "fib 88 is the first with 19 digits\n",
        "fib 93 is the first with 20 digits\n",
        "fib 98 is the first with 21 digits\n",
        "fib 103 is the first with 22 digits\n",
        "fib 107 is the first with 23 digits\n",
        "fib 112 is the first with 24 digits\n",
        "fib 117 is the first with 25 digits\n",
        "fib 122 is the first with 26 digits\n",
        "fib 127 is the first with 27 digits\n",
        "fib 131 is the first with 28 digits\n",
        "fib 136 is the first with 29 digits\n",
        "fib 141 is the first with 30 digits\n",
        "fib 146 is the first with 31 digits\n",
        "fib 151 is the first with 32 digits\n",
        "fib 155 is the first with 33 digits\n",
        "fib 160 is the first with 34 digits\n",
        "fib 165 is the first with 35 digits\n",
        "fib 170 is the first with 36 digits\n",
        "fib 174 is the first with 37 digits\n",
        "fib 179 is the first with 38 digits\n",
        "fib 184 is the first with 39 digits\n",
        "fib 189 is the first with 40 digits\n",
        "fib 194 is the first with 41 digits\n",
        "fib 198 is the first with 42 digits\n",
        "fib 203 is the first with 43 digits\n",
        "fib 208 is the first with 44 digits\n",
        "fib 213 is the first with 45 digits\n",
        "fib 217 is the first with 46 digits\n",
        "fib 222 is the first with 47 digits\n",
        "fib 227 is the first with 48 digits\n",
        "fib 232 is the first with 49 digits\n",
        "fib 237 is the first with 50 digits\n",
        "fib 241 is the first with 51 digits\n",
        "fib 246 is the first with 52 digits\n",
        "fib 251 is the first with 53 digits\n",
        "fib 256 is the first with 54 digits\n",
        "fib 261 is the first with 55 digits\n",
        "fib 265 is the first with 56 digits\n",
        "fib 270 is the first with 57 digits\n",
        "fib 275 is the first with 58 digits\n",
        "fib 280 is the first with 59 digits\n",
        "fib 284 is the first with 60 digits\n",
        "fib 289 is the first with 61 digits\n",
        "fib 294 is the first with 62 digits\n",
        "fib 299 is the first with 63 digits\n",
        "fib 304 is the first with 64 digits\n",
        "fib 308 is the first with 65 digits\n",
        "fib 313 is the first with 66 digits"
       ]
      },
      {
       "output_type": "stream",
       "stream": "stdout",
       "text": [
        "\n",
        "fib 318 is the first with 67 digits\n",
        "fib 323 is the first with 68 digits\n",
        "fib 328 is the first with 69 digits\n",
        "fib 332 is the first with 70 digits\n",
        "fib 337 is the first with 71 digits\n",
        "fib 342 is the first with 72 digits\n",
        "fib 347 is the first with 73 digits\n",
        "fib 351 is the first with 74 digits\n",
        "fib 356 is the first with 75 digits\n",
        "fib 361 is the first with 76 digits\n",
        "fib 366 is the first with 77 digits\n",
        "fib 371 is the first with 78 digits\n",
        "fib 375 is the first with 79 digits\n",
        "fib 380 is the first with 80 digits\n",
        "fib 385 is the first with 81 digits\n",
        "fib 390 is the first with 82 digits\n",
        "fib 395 is the first with 83 digits\n",
        "fib 399 is the first with 84 digits\n",
        "fib 404 is the first with 85 digits\n",
        "fib 409 is the first with 86 digits\n",
        "fib 414 is the first with 87 digits\n",
        "fib 418 is the first with 88 digits\n",
        "fib 423 is the first with 89 digits\n",
        "fib 428 is the first with 90 digits\n",
        "fib 433 is the first with 91 digits\n",
        "fib 438 is the first with 92 digits\n",
        "fib 442 is the first with 93 digits\n",
        "fib 447 is the first with 94 digits\n",
        "fib 452 is the first with 95 digits"
       ]
      },
      {
       "output_type": "stream",
       "stream": "stdout",
       "text": [
        "\n",
        "fib 457 is the first with 96 digits\n",
        "fib 462 is the first with 97 digits\n",
        "fib 466 is the first with 98 digits\n",
        "fib 471 is the first with 99 digits\n",
        "[None, None, None, None, None, None, None, None, None, None, None, None, None, None, None, None, None, None, None, None, None, None, None, None, None, None, None, None, None, None, None, None, None, None, None, None, None, None, None, None, None, None, None, None, None, None, None, None, None, None, None, None, None, None, None, None, None, None, None, None, None, None, None, None, None, None, None, None, None, None, None, None, None, None, None, None, None, None, None, None, None, None, None, None, None, None, None, None, None, None, None, None, None, None, None, None, None, None, None, None]\n"
       ]
      }
     ],
     "prompt_number": 17
    },
    {
     "cell_type": "code",
     "collapsed": false,
     "input": [],
     "language": "python",
     "metadata": {},
     "outputs": []
    }
   ],
   "metadata": {}
  }
 ]
}