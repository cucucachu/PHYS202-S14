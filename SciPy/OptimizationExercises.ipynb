{
 "metadata": {
  "name": "",
  "signature": "sha256:6edb3040c7e55bbbe53d2b0ab0dc245c4e7983ad59e5594c05dbd93889fa5404"
 },
 "nbformat": 3,
 "nbformat_minor": 0,
 "worksheets": [
  {
   "cells": [
    {
     "cell_type": "heading",
     "level": 1,
     "metadata": {},
     "source": [
      "Optimization Exercises"
     ]
    },
    {
     "cell_type": "markdown",
     "metadata": {},
     "source": [
      "<h2>Question 1</h2><br>\n",
      "<strong>(a)</strong> Write a function that can compute the weighted linear least squares (WLSQ) best fit line to a set of data. Here is the function template to use:<br>\n",
      "def WeightedLLSqFit(x,y,w):<br>\n",
      "    \"\"\"Take in arrays representing (x,y) values for a set of linearly varying data and an array of weights w.\n",
      "    Perform a weighted linear least squares regression.  Return the resulting slope and intercept\n",
      "    parameters of the best fit line with their uncertainties.\n",
      "\n",
      "    If the weights are all equal to one, the uncertainties on the parameters are calculated using the \n",
      "    non-weighted least squares equations.\"\"\"\n",
      "\n",
      "    #your code goes here...\n",
      "\n",
      "    return slope,slerr,intercept,interr\n",
      "Your function should test whether there are unequal weights on the data points and return the correctly calculated uncertainties for whichever case is requested.\n",
      "Use the features of numpy arrays rather than loops to take advantage of their superior computational speed."
     ]
    },
    {
     "cell_type": "code",
     "collapsed": false,
     "input": [
      "%pylab inline\n",
      "import matplotlib.pyplot as plt;\n",
      "import numpy as np;"
     ],
     "language": "python",
     "metadata": {},
     "outputs": [
      {
       "output_type": "stream",
       "stream": "stdout",
       "text": [
        "Populating the interactive namespace from numpy and matplotlib\n"
       ]
      }
     ],
     "prompt_number": 15
    },
    {
     "cell_type": "code",
     "collapsed": false,
     "input": [
      "def WeightedLLSqFit(x, y, w):\n",
      "    \"\"\"Take in arrays representing (x,y) values for a set of linearly varying data and an array \n",
      "    of weights w. Perform a weighted linear least squares regression. Return the resulting slope and\n",
      "    intercept parameters of the best fit line with their uncertainties.\n",
      "    If  the weights are all equal to one, the uncertainties on the parameters are calculated using the \n",
      "    non-weighted least squares equations.\"\"\"\n",
      "    w = 1. / w**2;\n",
      "    wx = (w*x).sum();\n",
      "    wy = (w*y).sum();\n",
      "    wxy = (w*x*y).sum();\n",
      "    wxx = (w*x*x).sum();\n",
      "    w = w.sum();\n",
      "    \n",
      "    m = (w * wxy - wx * wy) / (w * wxx - wx**2);\n",
      "    b = (wxx * wy - wx * wxy) / (w * wxx - wx**2);\n",
      "    merr = sqrt(w / (w* wxx - wx**2));\n",
      "    berr = sqrt(wxx / (w *wxx - wx**2));\n",
      "    \n",
      "    return m, merr, b, berr;\n",
      "    #return slope,slerr,intercept,interr;\n",
      "    \n",
      "def plotter(x, y, m, b):\n",
      "    plt.plot(x, y, \"bo\", label=\"og data\");\n",
      "    plt.plot(x, m*x + b, \"r-\", label=\"Fit line\");\n",
      "    \n",
      "    plt.legend(loc=\"best\");\n",
      "    plt.show();\n"
     ],
     "language": "python",
     "metadata": {},
     "outputs": [],
     "prompt_number": 16
    },
    {
     "cell_type": "markdown",
     "metadata": {},
     "source": [
      "<p><strong>(b)</strong> For the data below, use the uncertainties on the position values as weights to perform a WLSQ best fit. Print the results of the fit, both the fitted parameter values and their uncertainties.</p>\n",
      "<pre class=\"sourceCode python\"><code class=\"sourceCode python\">   time = np.array([<span class=\"dv\">1</span>.,<span class=\"dv\">2</span>.,<span class=\"dv\">3</span>.,<span class=\"dv\">4</span>.,<span class=\"dv\">5</span>.,<span class=\"dv\">6</span>.,<span class=\"dv\">7</span>.,<span class=\"dv\">8</span>.,<span class=\"dv\">9</span>.,<span class=\"dv\">10</span>.])\n",
      "   pos = np.array([<span class=\"fl\">7.75</span>, <span class=\"fl\">7.33</span>, <span class=\"fl\">6.89</span>, <span class=\"fl\">6.45</span>, <span class=\"fl\">5.96</span>, <span class=\"fl\">5.55</span>, <span class=\"fl\">5.10</span>, <span class=\"fl\">4.49</span>, <span class=\"fl\">3.93</span>, <span class=\"fl\">3.58</span>])\n",
      "   sigp = np.array([<span class=\"fl\">0.02</span>, <span class=\"fl\">0.03</span>, <span class=\"fl\">0.03</span>, <span class=\"fl\">0.04</span>, <span class=\"fl\">0.05</span>, <span class=\"fl\">0.06</span>, <span class=\"fl\">0.08</span>, <span class=\"fl\">0.11</span>, <span class=\"fl\">0.14</span>, <span class=\"fl\">0.17</span>])</code></pre>\n",
      "<p>If you did it right you should get <span class=\"math\">\\(m\\)</span> = -0.4510 <span class=\"math\">\\(\\pm\\)</span> 0.0066 and <span class=\"math\">\\(b\\)</span> = 8.2201 <span class=\"math\">\\(\\pm\\)</span> 0.0214.</p>"
     ]
    },
    {
     "cell_type": "code",
     "collapsed": false,
     "input": [
      "time = np.array([1.,2.,3.,4.,5.,6.,7.,8.,9.,10.])\n",
      "pos = np.array([7.75, 7.33, 6.89, 6.45, 5.96, 5.55, 5.10, 4.49, 3.93, 3.58])\n",
      "sigp = np.array([0.02, 0.03, 0.03, 0.04, 0.05, 0.06, 0.08, 0.11, 0.14, 0.17])\n",
      "\n",
      "m, merr, b, berr = WeightedLLSqFit(time, pos, sigp);\n",
      "plotter(time, position, m, b);\n",
      "print \"m:\",m,\"merr:\",merr,\"b:\",b,\"berr:\",berr"
     ],
     "language": "python",
     "metadata": {},
     "outputs": [
      {
       "ename": "NameError",
       "evalue": "name 'position' is not defined",
       "output_type": "pyerr",
       "traceback": [
        "\u001b[1;31m---------------------------------------------------------------------------\u001b[0m\n\u001b[1;31mNameError\u001b[0m                                 Traceback (most recent call last)",
        "\u001b[1;32m<ipython-input-17-12f200f2baa4>\u001b[0m in \u001b[0;36m<module>\u001b[1;34m()\u001b[0m\n\u001b[0;32m      4\u001b[0m \u001b[1;33m\u001b[0m\u001b[0m\n\u001b[0;32m      5\u001b[0m \u001b[0mm\u001b[0m\u001b[1;33m,\u001b[0m \u001b[0mmerr\u001b[0m\u001b[1;33m,\u001b[0m \u001b[0mb\u001b[0m\u001b[1;33m,\u001b[0m \u001b[0mberr\u001b[0m \u001b[1;33m=\u001b[0m \u001b[0mWeightedLLSqFit\u001b[0m\u001b[1;33m(\u001b[0m\u001b[0mtime\u001b[0m\u001b[1;33m,\u001b[0m \u001b[0mpos\u001b[0m\u001b[1;33m,\u001b[0m \u001b[0msigp\u001b[0m\u001b[1;33m)\u001b[0m\u001b[1;33m;\u001b[0m\u001b[1;33m\u001b[0m\u001b[0m\n\u001b[1;32m----> 6\u001b[1;33m \u001b[0mplotter\u001b[0m\u001b[1;33m(\u001b[0m\u001b[0mtime\u001b[0m\u001b[1;33m,\u001b[0m \u001b[0mposition\u001b[0m\u001b[1;33m,\u001b[0m \u001b[0mm\u001b[0m\u001b[1;33m,\u001b[0m \u001b[0mb\u001b[0m\u001b[1;33m)\u001b[0m\u001b[1;33m;\u001b[0m\u001b[1;33m\u001b[0m\u001b[0m\n\u001b[0m\u001b[0;32m      7\u001b[0m \u001b[1;32mprint\u001b[0m \u001b[1;34m\"m:\"\u001b[0m\u001b[1;33m,\u001b[0m\u001b[0mm\u001b[0m\u001b[1;33m,\u001b[0m\u001b[1;34m\"merr:\"\u001b[0m\u001b[1;33m,\u001b[0m\u001b[0mmerr\u001b[0m\u001b[1;33m,\u001b[0m\u001b[1;34m\"b:\"\u001b[0m\u001b[1;33m,\u001b[0m\u001b[0mb\u001b[0m\u001b[1;33m,\u001b[0m\u001b[1;34m\"berr:\"\u001b[0m\u001b[1;33m,\u001b[0m\u001b[0mberr\u001b[0m\u001b[1;33m\u001b[0m\u001b[0m\n",
        "\u001b[1;31mNameError\u001b[0m: name 'position' is not defined"
       ]
      }
     ],
     "prompt_number": 17
    },
    {
     "cell_type": "markdown",
     "metadata": {},
     "source": [
      "<p><strong>(c)</strong> Now make an <code>errorbar</code> plot that shows the (time,position) data with markers and error bars <span class=\"math\">\\(\\sigma_p\\)</span>. Also plot lines representing the results from the LSQ and WSLQ fits to these data. Include a legend that shows the fitted line equations with the fit parameters as you did in the tour, with labels indicating which one is the weighted result and which the unweighted result.</p>"
     ]
    },
    {
     "cell_type": "code",
     "collapsed": false,
     "input": [
      "#LinearLSqFit function from the tour:\n",
      "def LinearLSqFit(x,y):\n",
      "    \"\"\"Take in arrays representing (x,y) values for a set of linearly varying data and \n",
      "    perform a linear least squares regression.  Return the resulting slope and intercept\n",
      "    parameters of the best fit line with their uncertainties.\"\"\"\n",
      "\n",
      "    xave = x.mean()\n",
      "    yave = y.mean()\n",
      "    x2ave = (x*x).mean()\n",
      "    xyave = (x*y).mean()\n",
      "    denom = (x2ave - xave**2)\n",
      "    m = (xyave - xave*yave)/denom\n",
      "    b = (x2ave*yave - xave*xyave)/denom\n",
      "    delta = y - (m*x + b)\n",
      "    d2ave = (delta*delta).mean()\n",
      "    n = len(y)\n",
      "    merr = sqrt((n-2)**(-1)*d2ave/denom)\n",
      "    berr = sqrt((n-2)**(-1)*d2ave*x2ave/denom)\n",
      "    \n",
      "    return m,b,merr,berr"
     ],
     "language": "python",
     "metadata": {},
     "outputs": [],
     "prompt_number": 18
    },
    {
     "cell_type": "code",
     "collapsed": false,
     "input": [
      "m1,b1,merr,berr = LinearLSqFit(time,pos);\n",
      "lsq = lambda x: m1*x + b1;\n",
      "m2,merr,b2,berr = WeightedLLSqFit(time, pos, sigp);\n",
      "wlsq = lambda x: m2*x + b2;\n",
      "\n",
      "print m1, b1\n",
      "plt.errorbar(time, pos, sigp, fmt=\"bo\",label=\"Data with errors\");\n",
      "plt.plot(time, lsq(time), \"r-\", label=\"Unweighted LSQ\");\n",
      "plt.plot(time, wlsq(time), \"g-\", label=\"Weighted LSQ\");\n",
      "\n",
      "plt.xlim(0, 11);\n",
      "plt.ylim(0, 10);\n",
      "\n",
      "plt.xlabel(\"time (s)\", fontsize=15);\n",
      "plt.ylabel(\"position\", fontsize=15);\n",
      "\n",
      "plt.legend(loc=\"best\");\n",
      "plt.show();"
     ],
     "language": "python",
     "metadata": {},
     "outputs": [
      {
       "output_type": "stream",
       "stream": "stdout",
       "text": [
        "-0.471454545455 8.296\n"
       ]
      },
      {
       "metadata": {},
       "output_type": "display_data",
       "png": "[encoded data removed]",
       "text": [
        "<matplotlib.figure.Figure at 0x27a1650>"
       ]
      }
     ],
     "prompt_number": 19
    },
    {
     "cell_type": "heading",
     "level": 2,
     "metadata": {},
     "source": [
      "Question 2"
     ]
    },
    {
     "cell_type": "markdown",
     "metadata": {},
     "source": [
      "<p><strong>(a)</strong> Download the linked file <a href=\"waveform_2.npy\"><code>waveform_2.npy</code></a> by right-clicking on the link and selecting &quot;Save Link As&quot;. Read in the data and plot it.</p>"
     ]
    },
    {
     "cell_type": "code",
     "collapsed": false,
     "input": [
      "wav2 = np.load('waveform_2.npy');\n",
      "x = np.arange(0, len(wav2), 1);\n",
      "plt.plot(x, wav2);\n",
      "plt.ylim(0, wav2.max() + 5)\n",
      "plt.show();"
     ],
     "language": "python",
     "metadata": {},
     "outputs": [
      {
       "metadata": {},
       "output_type": "display_data",
       "png": "[encoded data removed]",
       "text": [
        "<matplotlib.figure.Figure at 0x2acdd10>"
       ]
      }
     ],
     "prompt_number": 20
    },
    {
     "cell_type": "markdown",
     "metadata": {},
     "source": [
      "<p><strong>(b)</strong> This data is more complicated than that in <code>waveform_1.npy</code> from the tour, but not considerably so. It looks like it could be modeled as the sum of a noise floor and three Gaussian peaks with different amplitude, mean, and sigma. Write a function to model this data.</p>"
     ]
    },
    {
     "cell_type": "code",
     "collapsed": false,
     "input": [
      "from scipy.optimize import curve_fit;"
     ],
     "language": "python",
     "metadata": {},
     "outputs": [],
     "prompt_number": 21
    },
    {
     "cell_type": "code",
     "collapsed": false,
     "input": [
      "def Guassian(t, A, mu, sigma):\n",
      "    return A * exp( - ((t-mu)/sigma)**2 );\n",
      "\n",
      "def model(x, B, A1, A2, A3, mu1, mu2, mu3, sigma1, sigma2, sigma3):\n",
      "    G1 = Guassian(x, A1, mu1, sigma1);\n",
      "    G2 = Guassian(x, A2, mu2, sigma2);\n",
      "    G3 = Guassian(x, A3, mu3, sigma3);\n",
      "    return G1 + G2 + G3 + B;"
     ],
     "language": "python",
     "metadata": {},
     "outputs": [],
     "prompt_number": 26
    },
    {
     "cell_type": "markdown",
     "metadata": {},
     "source": [
      "<p><strong>(c)</strong> By inspecting the graph, come up with a set of initial guesses for the parameters of the fit and fit the data using <code>curve_fit</code>. Print the resulting parameters and their uncertainties.</p>\n"
     ]
    },
    {
     "cell_type": "code",
     "collapsed": false,
     "input": [
      "x0 = array([3, 25, 12, 8, 12, 23, 26, 8, 4, 4]);\n",
      "popt,pcov = curve_fit(model,x,wav2,x0);\n",
      "\n",
      "print \"Parameters:\",popt;\n",
      "print \"Uncertanties:\",pcov;"
     ],
     "language": "python",
     "metadata": {},
     "outputs": [
      {
       "output_type": "stream",
       "stream": "stdout",
       "text": [
        "Parameters: [    4.69727151    21.01711215  1216.57752499 -1218.79346473    16.74342146\n",
        "    65.73522318    65.73653312     2.44289397    16.40299749   -16.42566305]\n",
        "Uncertanties: [[  2.86838359e-01  -1.98470410e-01   1.79520327e+05  -1.79520667e+05\n",
        "    1.07638836e-03   1.17924073e+00   9.86459894e-01  -4.48980977e-02\n",
        "    4.18481558e+00  -8.46769521e-01]\n",
        " [ -1.98470422e-01   2.78208829e+00  -6.01288543e+04   6.01290861e+04\n",
        "   -7.06697432e-04  -6.69424086e-01  -6.04967409e-01  -1.73781403e-01\n",
        "   -2.17534214e+00   1.05858142e+00]\n",
        " [  1.79691478e+05  -6.02329048e+04  -6.96616420e+14   6.96616417e+14\n",
        "    5.26617440e+03  -3.56730074e+08   3.92663937e+08  -8.75654370e+03\n",
        "   -6.47683950e+09  -6.49081981e+09]\n",
        " [ -1.79691942e+05   6.02331366e+04   6.96616417e+14  -6.96616414e+14\n",
        "   -5.26617648e+03   3.56730069e+08  -3.92663938e+08   8.75663577e+03\n",
        "    6.47683947e+09   6.49081979e+09]\n",
        " [  1.07638801e-03  -7.06696965e-04   5.26250149e+03  -5.26250358e+03\n",
        "    2.38321670e-02   2.99543579e-02   2.42967421e-02  -1.50116003e-04\n",
        "    8.56594852e-02   1.22784939e-02]\n",
        " [  1.17933395e+00  -6.69479235e-01  -3.56751601e+08   3.56751597e+08\n",
        "    2.99564015e-02  -1.30042179e+00   3.82466020e+02  -1.24837075e-01\n",
        "   -3.19715687e+03  -3.44402060e+03]\n",
        " [  9.86368935e-01  -6.04910625e-01   3.92642411e+08  -3.92642412e+08\n",
        "    2.42948345e-02   3.82442862e+02  -3.99607988e+01  -1.15465654e-01\n",
        "    3.77038834e+03   3.53855931e+03]\n",
        " [ -4.48981008e-02  -1.73781402e-01  -8.73627386e+03   8.73632540e+03\n",
        "   -1.50116110e-04  -1.24826419e-01  -1.15476822e-01   5.47052319e-02\n",
        "   -4.16957799e-01   2.54896459e-01]\n",
        " [  4.18641139e+00  -2.17631088e+00  -6.47685468e+09   6.47685464e+09\n",
        "    8.56937491e-02  -3.19696449e+03   3.77059703e+03  -4.17146650e-01\n",
        "   -6.00988772e+04  -6.04692158e+04]\n",
        " [ -8.45178226e-01   1.05761323e+00  -6.49080462e+09   6.49080460e+09\n",
        "    1.23126018e-02  -3.44381224e+03   3.53875131e+03   2.54707624e-01\n",
        "   -6.04689331e+04  -6.03586440e+04]]\n"
       ]
      }
     ],
     "prompt_number": 30
    },
    {
     "cell_type": "markdown",
     "metadata": {},
     "source": [
      "<p><strong>(d)</strong> Plot the data and the fit to see how well the model matches the data.</p>\n"
     ]
    },
    {
     "cell_type": "code",
     "collapsed": false,
     "input": [
      "plt.plot(x, wav2, label=\"data\");\n",
      "plt.plot(x, model(x, popt[0], popt[1], popt[2], popt[3], popt[4], \\\n",
      "                   popt[5], popt[6], popt[7], popt[8], popt[9]\\\n",
      "                   ), \"r-\", label=\"fit\", linewidth = 2);\n",
      "plt.legend(loc=\"best\");\n",
      "\n",
      "plt.xlabel(\"Time (ns)\", fontsize=20);\n",
      "plt.ylabel(\"Intensity (bins)\", fontsize=20);\n",
      "\n",
      "plt.show();"
     ],
     "language": "python",
     "metadata": {},
     "outputs": [
      {
       "metadata": {},
       "output_type": "display_data",
       "png": "[encoded data removed]",
       "text": [
        "<matplotlib.figure.Figure at 0x2ccaf90>"
       ]
      }
     ],
     "prompt_number": 29
    },
    {
     "cell_type": "code",
     "collapsed": false,
     "input": [],
     "language": "python",
     "metadata": {},
     "outputs": []
    }
   ],
   "metadata": {}
  }
 ]
}