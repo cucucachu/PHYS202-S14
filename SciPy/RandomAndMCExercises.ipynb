{
 "metadata": {
  "name": "",
  "signature": "sha256:55f372aced7a32e5c43628cfe10eea46e244269d3cad6dd85ad1ababa0a1a83f"
 },
 "nbformat": 3,
 "nbformat_minor": 0,
 "worksheets": [
  {
   "cells": [
    {
     "cell_type": "heading",
     "level": 2,
     "metadata": {},
     "source": [
      "Random Numbers, Monte Carlo Sampling and Simulation Exercises"
     ]
    },
    {
     "cell_type": "heading",
     "level": 2,
     "metadata": {},
     "source": [
      "Question 1"
     ]
    },
    {
     "cell_type": "markdown",
     "metadata": {},
     "source": [
      " The Weibull distribution, with parameters \u03b1>0 and \u03b2>0 is described by the density function <br><br><br>$f(x) = \\begin{cases} \\alpha\\beta^{-\\alpha}x^{\\alpha -1}e^{-(x/\\beta)^{\\alpha}} & x > 0 \\\\ 0 & \\text{otherwise} \\end{cases}$ <br><br> <br><strong>(a)</strong> Solve for the CDF of the Weibull distribution analytically, using <br> $F(x) = \\int_{-\\infty}^x f(t)dt$ <br><br>"
     ]
    },
    {
     "cell_type": "code",
     "collapsed": false,
     "input": [
      "%pylab inline\n",
      "import matplotlib.pyplot as plt;\n",
      "import numpy as np;"
     ],
     "language": "python",
     "metadata": {},
     "outputs": [
      {
       "output_type": "stream",
       "stream": "stdout",
       "text": [
        "Populating the interactive namespace from numpy and matplotlib\n"
       ]
      },
      {
       "output_type": "stream",
       "stream": "stderr",
       "text": [
        "WARNING: pylab import has clobbered these variables: ['f', 'beta']\n",
        "`%matplotlib` prevents importing * from pylab and numpy\n"
       ]
      }
     ],
     "prompt_number": 8
    },
    {
     "cell_type": "code",
     "collapsed": false,
     "input": [
      "alpha = 1;\n",
      "beta = 1;\n",
      "f = lambda x: alpha * beta ** (-alpha) * x ** (alpha - 1) * np.exp(-1 * ((x / beta)**alpha));\n",
      "F = lambda x: -alpha * (beta ** (-alpha)) * np.exp(-(beta**(-alpha))) * np.exp(-(x**alpha));\n",
      "\n",
      "x = np.linspace(0, 10, 100);\n",
      "plt.plot(x, f(x), label = \"f(x)\");\n",
      "plt.plot(x, F(x), label = \"F(x)\");\n",
      "plt.legend(loc=\"best\");\n",
      "plt.show();"
     ],
     "language": "python",
     "metadata": {},
     "outputs": [
      {
       "metadata": {},
       "output_type": "display_data",
       "png": "[encoded data removed]",
       "text": [
        "<matplotlib.figure.Figure at 0x2ac8b90>"
       ]
      }
     ],
     "prompt_number": 25
    },
    {
     "cell_type": "markdown",
     "metadata": {},
     "source": [
      "**(b)** Find the inverse of the CDF $F^{\u22121}(x)$ analytically.\n"
     ]
    },
    {
     "cell_type": "markdown",
     "metadata": {},
     "source": [
      "$f(x) = \\begin{cases} \\alpha\\beta^{-\\alpha}x^{\\alpha -1}e^{-(x/\\beta)^{\\alpha}} & x > 0 \\\\ 0 & \\text{otherwise} \\end{cases}$\n",
      "<br> <br>\n",
      "$\\int {f(x)} =  \\int {\\alpha\\beta^{-\\alpha}x^{\\alpha -1}e^{-(x/\\beta)^{\\alpha}}} $\n",
      "<br> <br>\n",
      "$\\int {f(x)} = \\alpha\\beta^{-\\alpha} e^{-(\\beta)^{-\\alpha}} \\int {x^{\\alpha -1}e^{-(x)^{\\alpha}}} $\n",
      "<br> <br>\n",
      "Let $ C = \\alpha\\beta^{-\\alpha} e^{-(\\beta)^{-\\alpha}} $\n",
      "<br> <br>\n",
      "$\\int {f(x)} = C \\int {x^{\\alpha -1}e^{-(x)^{\\alpha}}} $\n",
      "<br> <br> \n",
      "Let $ u = x^{\\alpha} $ and $ du = x^{\\alpha - 1} dx $\n",
      "<br> <br>\n",
      "$ C \\int {e^{-u} du} = -C e^{-u}$\n",
      "<br> <br>\n",
      "Now turn the indefinite integral into the definite integral:\n",
      "<br> <br>\n",
      "$F(x) = \\int_{-\\infty}^x f(t)dt$\n",
      "<br> <br>\n",
      "$F(x) = \\left.-C e^{-u} \\right|_\\inf^u$\n",
      "<br> <br>\n",
      "$F(x) = -Ce^{-u}$\n",
      "<br> <br>\n",
      "Substituting back to our original variables:\n",
      "<br> <br> \n",
      "<p style=\"font-size: 20px\">$F(x)= -\\alpha\\beta^{-\\alpha} e^{-(\\beta)^{-\\alpha}} e^{-x^{\\alpha}}$</p><br><br><br>"
     ]
    },
    {
     "cell_type": "markdown",
     "metadata": {},
     "source": [
      "**(c)** Write a program to generate 10,000 samples from the Weibull distribution and plot the true distribution, the CDF and the sampled distribution as a histogram, all on the same graph. Let \u03b1 = 1.5, \u03b2 = 6.\n",
      "Note: Do not use the built-in Weibull function from numpy.random."
     ]
    },
    {
     "cell_type": "markdown",
     "metadata": {},
     "source": [
      "**(d)** Run the four statistical tests of randomness (mean, variance, chi-square, K-S) on your results from question 1(c). Does it pass all of them?"
     ]
    },
    {
     "cell_type": "heading",
     "level": 2,
     "metadata": {},
     "source": [
      "Question 2"
     ]
    },
    {
     "cell_type": "markdown",
     "metadata": {},
     "source": [
      "The Beta(4,3) distribution has density <br> $f(x) = \\begin{cases} 60 x^3 (1 - x)^2 & 0 \\le x \\le 1 \\\\ 0 & \\text{otherwise} \\end{cases}$ <br> <br> The maximum of this distribution is f(0.6)=2.0736 (exactly)."
     ]
    },
    {
     "cell_type": "markdown",
     "metadata": {},
     "source": [
      "**(a)** Write a program that uses the Rejection Sampling Method to generate a set of 10,000 samples from this distribution and plot the density distribution, the CDF, and a histogram of the sampled distribution on the same graph.\n",
      "Note: Do not use the built-in Beta function from numpy.random."
     ]
    },
    {
     "cell_type": "markdown",
     "metadata": {},
     "source": [
      "**(b)** Run the four statistical tests of randomness (mean, variance, chi-square, K-S) on your results from question 2(a). Does it pass all of them?"
     ]
    },
    {
     "cell_type": "heading",
     "level": 2,
     "metadata": {},
     "source": [
      "Question 3"
     ]
    },
    {
     "cell_type": "markdown",
     "metadata": {},
     "source": [
      "Nuclei are composed of an ensemble of tightly bound protons and neutrons, which are in turn, tightly bound ensembles of quarks and gluons. If two nuclei are made to collide at very high energies, such as at the CERN Large Hadron Collider (LHC), they can vaporize into quarks and gluons and form a Quark Gluon Plasma.\n",
      "The left-hand figure below shows two Au (gold) nuclei just after a grazing collision in which only a fraction of the 197 protons and neutrons (collectively called nucleons) actually interact. The right-hand side of the figure shows the substructure of the nucleons, which are composed of three valence quarks and the gluons that hold them together."
     ]
    },
    {
     "cell_type": "markdown",
     "metadata": {},
     "source": [
      "<img src=\"https://polylearn.calpoly.edu/AY_2013-2014/pluginfile.php/444482/mod_resource/content/2/Glauber1.png\" style=\"float: left\"/>"
     ]
    },
    {
     "cell_type": "markdown",
     "metadata": {},
     "source": [
      "Only some of the nucleons interact when the nuclei collide unless they hit perfectly head-on. We define the offset of the two nuclei by an impact parameter, b, defined as the distance between the centers of the two nuclei as seen in a beam's-eye view. This figure illustrates the two-dimensional geometric overlap region shaded green."
     ]
    },
    {
     "cell_type": "markdown",
     "metadata": {},
     "source": [
      "<img src = \"https://polylearn.calpoly.edu/AY_2013-2014/pluginfile.php/444482/mod_resource/content/2/Glauber2.png\" />"
     ]
    },
    {
     "cell_type": "markdown",
     "metadata": {},
     "source": [
      "The distribution of nucleons within a nucleus is not uniform. The radial distribution for spherical nuclei is generally described by the Woods-Saxon density profile, given by"
     ]
    },
    {
     "cell_type": "markdown",
     "metadata": {},
     "source": [
      "$\\rho(r) = \\frac{\\rho_0 (1 + wr^2/R^2)}{1 + \\exp((r-R)/a)}$"
     ]
    },
    {
     "cell_type": "markdown",
     "metadata": {},
     "source": [
      "where R is the average radius of the nucleus, and a, w are density parameters. These parameters come from empirical observations of electron scattering off various nuclei. The three parameter Woods-Saxon distribution describes a central nucleon density suppression to minimize the Coulombic potential, a maximum nucleon density radius, and then a fall off to zero density at infinite radius. Typical values for an assortment of nuclei is given in the Table."
     ]
    },
    {
     "cell_type": "markdown",
     "metadata": {},
     "source": [
      "<table><tr><th>\n",
      "Nucleus\n",
      "</th><th>\n",
      "A\n",
      "</th><th>\n",
      "R (fm)\n",
      "</th><th>\n",
      "a (fm<span class=\"math\">\\(^{-1}\\)</span>)\n",
      "</th><th>\n",
      "w\n",
      "</th></tr>\n",
      "<tr><td>\n",
      "C\n",
      "</td><td>\n",
      "12\n",
      "</td><td>\n",
      "2.47\n",
      "</td><td>\n",
      "0\n",
      "</td><td>\n",
      "0\n",
      "</td></tr>\n",
      "<tr><td>\n",
      "O\n",
      "</td><td>\n",
      "16\n",
      "</td><td>\n",
      "2.608\n",
      "</td><td>\n",
      "0.513\n",
      "</td><td>\n",
      "-0.051\n",
      "</td></tr>\n",
      "<tr><td>\n",
      "Al\n",
      "</td><td>\n",
      "27\n",
      "</td><td>\n",
      "3.07\n",
      "</td><td>\n",
      "0.519\n",
      "</td><td>\n",
      "0\n",
      "</td></tr>\n",
      "<tr><td>\n",
      "S\n",
      "</td><td>\n",
      "32\n",
      "</td><td>\n",
      "3.458\n",
      "</td><td>\n",
      "0.61\n",
      "</td><td>\n",
      "0\n",
      "</td></tr>\n",
      "<tr><td>\n",
      "Ca\n",
      "</td><td>\n",
      "40\n",
      "</td><td>\n",
      "3.76\n",
      "</td><td>\n",
      "0.586\n",
      "</td><td>\n",
      "-0.161\n",
      "</td></tr>\n",
      "<tr><td>\n",
      "Ni\n",
      "</td><td>\n",
      "58\n",
      "</td><td>\n",
      "4.309\n",
      "</td><td>\n",
      "0.516\n",
      "</td><td>\n",
      "-0.1308\n",
      "</td></tr>\n",
      "<tr><td>\n",
      "Cu\n",
      "</td><td>\n",
      "63\n",
      "</td><td>\n",
      "4.2\n",
      "</td><td>\n",
      "0.596\n",
      "</td><td>\n",
      "0\n",
      "</td></tr>\n",
      "<tr><td>\n",
      "W\n",
      "</td><td>\n",
      "186\n",
      "</td><td>\n",
      "6.51\n",
      "</td><td>\n",
      "0.535\n",
      "</td><td>\n",
      "0\n",
      "</td></tr>\n",
      "<tr><td>\n",
      "Au\n",
      "</td><td>\n",
      "197\n",
      "</td><td>\n",
      "6.38\n",
      "</td><td>\n",
      "0.535\n",
      "</td><td>\n",
      "0\n",
      "</td></tr>\n",
      "<tr><td>\n",
      "Pb\n",
      "</td><td>\n",
      "208\n",
      "</td><td>\n",
      "6.68\n",
      "</td><td>\n",
      "0.546\n",
      "</td><td>\n",
      "0\n",
      "</td></tr>\n",
      "<tr><td>\n",
      "U\n",
      "</td><td>\n",
      "238\n",
      "</td><td>\n",
      "6.68\n",
      "</td><td>\n",
      "0.6\n",
      "</td><td>\n",
      "0\n",
      "</td></tr>\n",
      "</table>"
     ]
    },
    {
     "cell_type": "markdown",
     "metadata": {},
     "source": [
      "**(a)** Plot the Woods-Saxon distribution $\u03c1(r)$ and $r^{2}\u03c1(r)$ for gold from r = 0 fm to r = 18 fm."
     ]
    },
    {
     "cell_type": "markdown",
     "metadata": {},
     "source": [
      "<p><strong>(b)</strong> Let\u2019s create a realistic distribution for two gold ions, A, and B.</p>\n",
      "<ul>\n",
      "<li><p>First, distribute 197 nucleons for each nucleus using the Woods-Saxon distribution multiplied by the spherical coordinate weighting factor, $r^{2}$. Use the <code>distribute1d</code> function from the tour to sample $r$ values numerically.</p></li>\n",
      "<li><p>Then, use uniform sampling of a number $u$ from [0,1) scaled by $2\\pi$ to obtain the azimuthal angle $\\phi = 2\\pi u$</p></li>\n",
      "<li><p>Followed by uniform sampling of another number $v = [0,1)$, transformed to $\\theta = \\cos^{-1}(2v - 1)$ to obtain the polar angle $\\theta$</p></li>\n",
      "</ul>\n",
      "<p>(Note that this is the physics definition of azimuthal and polar angles, not the math definition.)</p>\n",
      "<p>The reason for these transformations is that the volume element $dV = r^{2}\\sin\\theta dr d\\theta d\\phi$ has both radial and polar angle dependence. If you do not sample in this way, your results will be bunched up at the poles and toward the outer edges of the sphere.</p>"
     ]
    },
    {
     "cell_type": "markdown",
     "metadata": {},
     "source": [
      "**(c)** Once you have the spherical coordinates for each of the nucleons in each nucleus, convert to cartesian coordinates. In nuclear collisions, the beam axis along which the particles travel/collide is the z axis. The polar angle \u03b8 is measured up from the positive-z axis and the azimuthal angle \u03d5 is measured up from the positive x-axis.\n",
      "Plot the nuclei in 2d for two different planar projections: the the beam's eye view (x-y) and the side view (x-z) side-by-side.\n",
      "Let the nucleons have radius of 1 fm, make the nucleons from each nucleus a different color, and displace them by a randomly chosen impact parameter b between 0 and 18 fm. For example, shift ion A by b/2 to the left along the x-axis and B by b/2 to the right along the x-axis."
     ]
    },
    {
     "cell_type": "markdown",
     "metadata": {},
     "source": [
      "**(d)** Since we cannot measure the impact parameter directly for each collision, we need a method to estimate the geometric overlap so that we can categorize the collisions based on the number of nucleons participating in each collision and how many nucleon-nucleon collisions occurred. Nucleons that pass close enough to each other will experience an inelastic collision that will rip the quarks right out of the nucleon. The distance that dictates when an inelastic collision occurs is governed by the interaction cross-section, which has been measured very carefully at proton colliders. The inelastic cross-section at collision energy of 200 GeV is \u03c3inel = 42 mb (1 mb = 1 millibarn = 10\u221224 cm2 = 10\u221231 m2), defining an overlap area between two nucleons.\n",
      "Make an interact object for your two plots in part (c) that let's you vary the impact parameter from 0 to 18 fm. On the plots, change the color of the nucleons that \"participate\" in interactions to something else. (Let the participating nucleons in nucleus A be one color and those in nucleus B be another color.)\n",
      "To do this, you\u2019ll need to find all the nucleons from ion A that are within a distance, D, of a nucleon from ion B using D=\u03c3inel/\u03c0\u2212\u2212\u2212\u2212\u2212\u2212\u221a, where \u03c3inel is the cross sectional area measured in millibarns. Don\u2019t forget to convert the millibarns to fm2."
     ]
    },
    {
     "cell_type": "code",
     "collapsed": false,
     "input": [],
     "language": "python",
     "metadata": {},
     "outputs": []
    }
   ],
   "metadata": {}
  }
 ]
}