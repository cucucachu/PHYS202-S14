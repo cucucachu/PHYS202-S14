{
 "metadata": {
  "name": "",
  "signature": "sha256:02d5a03374c04266b4c7a0342a7f68d608ec3f4d68e3f2af545a3a4091cec704"
 },
 "nbformat": 3,
 "nbformat_minor": 0,
 "worksheets": [
  {
   "cells": [
    {
     "cell_type": "heading",
     "level": 1,
     "metadata": {},
     "source": [
      "Monte Carlo Integration Exercises"
     ]
    },
    {
     "cell_type": "markdown",
     "metadata": {},
     "source": [
      "<h2>Question 1</h2>\n",
      "<p>Let\u2019s compute the electric potential from a plane of charge as shown in the figure using Monte Carlo integration.\n",
      "</p>\n",
      "<img src=\"https://polylearn.calpoly.edu/AY_2013-2014/pluginfile.php/443226/mod_resource/content/2/surfacecharge.png\" style = \"width: 500px; height: 400px\"></img>\n",
      "<p>\n",
      "The integral comes from summing all the potentials from the chunks of \u201cpoint\u201d charges. Just as we summed two charges for a dipole, now we\u2019ll sum many charges. The important part is to understand how dQ, modeled as a point charge, is related to \u03c3dA, where \u03c3 is the surface charge density = charge/area (\u03c3=Q/A ) Review your notes from PHYS 133 if you need a refresher.\n",
      "We want to use our previously defined pointPotential() function from Electrostatics.py, so we have to import it.</p>"
     ]
    },
    {
     "cell_type": "code",
     "collapsed": false,
     "input": [
      "#import our point potential function\n",
      "from Electrostatics import *"
     ],
     "language": "python",
     "metadata": {},
     "outputs": [],
     "prompt_number": 2
    },
    {
     "cell_type": "code",
     "collapsed": false,
     "input": [
      "!cat Electrostatics.py"
     ],
     "language": "python",
     "metadata": {},
     "outputs": [
      {
       "output_type": "stream",
       "stream": "stdout",
       "text": [
        "\r\n",
        "import numpy as np\r\n",
        "\r\n",
        "def pointPotential(x,y,q,Xc,Yc):\r\n",
        "    \"\"\"\r\n",
        "    Return the electric potential for a \r\n",
        "    point charge q at (Xc,Yc)\r\n",
        "    \r\n",
        "    Units returned are [Volts] if input \r\n",
        "    units are [meters] and [Coulombs]                                   \r\n",
        "    \"\"\"\r\n",
        "    k = 8.987551787997912e9 #(Nm^2/C^2)                                                                        \r\n",
        "    Vxy = k*q/np.sqrt(((x-Xc)**2 + (y-Yc)**2))\r\n",
        "    return Vxy\r\n",
        "\r\n",
        "def dipolePotential(x,y,q,d):\r\n",
        "    \"\"\"\r\n",
        "    Return the electric potential for a \r\n",
        "    pair of point charges +/- q                                         \r\n",
        "    separated by distance d along the x-axis \r\n",
        "    with their midpoint at (0,0).                                  \r\n",
        "                                                                                                               \r\n",
        "    Units returned are [Volts] if input\r\n",
        "    units are [meters] and [Coulombs]                                   \r\n",
        "    \"\"\"\r\n",
        "    Vxy=pointPotential(x,y,q,-d/2.,0.) + pointPotential(x,y,-q,+d/2.,0.)\r\n",
        "    return Vxy\r\n",
        " "
       ]
      }
     ],
     "prompt_number": 3
    },
    {
     "cell_type": "markdown",
     "metadata": {},
     "source": [
      "<Strong>(a)</Strong> Use the sample mean method to compute the potential at point P(2,3) due to the disk of charge for different numbers of samples N=(101,102,103,104,105,106). Report the value and its statistical uncertainty for each sample size. How does the result depend on N?"
     ]
    },
    {
     "cell_type": "code",
     "collapsed": false,
     "input": [
      "xmin = -1;\n",
      "xmax = 1;\n",
      "ymin = 0;\n",
      "ymax = 2;\n",
      "q = .000001;\n",
      "\n",
      "i = (10,100,1000,10000,100000,1000000)\n",
      "for N in i:\n",
      "    x = xmin + (xmax-xmin)*np.random.random_sample(N);\n",
      "    y = ymin + (ymax-ymin)*np.random.random_sample(N);\n",
      "    \n",
      "    I = (xmax-xmin)*(ymax-ymin)*pointPotential(x, y, q, 2, 3).mean();\n",
      "    \n",
      "    print \"Electric potential using Sample Mean Method with\",N,\"samples:\",I"
     ],
     "language": "python",
     "metadata": {},
     "outputs": [
      {
       "output_type": "stream",
       "stream": "stdout",
       "text": [
        "Electric potential using Sample Mean Method with 10 samples: 12097.5679153\n",
        "Electric potential using Sample Mean Method with 100 samples: 13248.8495317\n",
        "Electric potential using Sample Mean Method with 1000 samples: 13125.5764081\n",
        "Electric potential using Sample Mean Method with 10000 samples: 12988.3267265\n",
        "Electric potential using Sample Mean Method with 100000 samples: 13022.7784741\n",
        "Electric potential using Sample Mean Method with"
       ]
      },
      {
       "output_type": "stream",
       "stream": "stdout",
       "text": [
        " 1000000 samples: 13030.5967744\n"
       ]
      }
     ],
     "prompt_number": 4
    },
    {
     "cell_type": "markdown",
     "metadata": {},
     "source": [
      "<Strong>(b)</Strong> Now use the same method to compute the electric potential, V, at point P(2,3), from a disk centered on the origin with radius, R=1.2 m, and charge density, \u03c3 = 2 nC/m2 ."
     ]
    },
    {
     "cell_type": "markdown",
     "metadata": {},
     "source": [
      "<img src =\"https://polylearn.calpoly.edu/AY_2013-2014/pluginfile.php/443226/mod_resource/content/2/chargeddisk.png\" style=\"width: 500px; height: 400px\">\n",
      "</img>"
     ]
    },
    {
     "cell_type": "markdown",
     "metadata": {},
     "source": [
      "The Integral is <div style=\"font-size: 30px\">$V = {\\int_0^{2\\pi}\\int_0^{1.2} \\frac{K\\sigma}{|r-r_0|}} rd\\theta dr$ </div>"
     ]
    },
    {
     "cell_type": "code",
     "collapsed": false,
     "input": [
      "rmin = 0;\n",
      "rmax = 1.2;\n",
      "tmin = 0;\n",
      "tmax = 2*np.pi;\n",
      "q = .000000002;\n",
      "\n",
      "i = (10,100,1000,10000,100000,1000000)\n",
      "for N in i:\n",
      "    r = rmin + (rmax-rmin)*np.random.random_sample(N);\n",
      "    theta = tmin + (tmax-tmin)*np.random.random_sample(N);\n",
      "    x = r * np.cos(theta);\n",
      "    y = r * np.sin(theta);\n",
      "    \n",
      "    I = (xmax-xmin)*(ymax-ymin)*pointPotential(x, y, q, 2, 3).mean();\n",
      "    \n",
      "    print \"Electric potential using Sample Mean Method with\",N,\"samples:\",I"
     ],
     "language": "python",
     "metadata": {},
     "outputs": [
      {
       "output_type": "stream",
       "stream": "stdout",
       "text": [
        "Electric potential using Sample Mean Method with 10 samples: 19.7132703314\n",
        "Electric potential using Sample Mean Method with 100 samples: 19.996837566\n",
        "Electric potential using Sample Mean Method with 1000 samples: 20.1646101424\n",
        "Electric potential using Sample Mean Method with 10000 samples: 20.0955977605\n",
        "Electric potential using Sample Mean Method with 100000 samples: 20.1380155341\n",
        "Electric potential using Sample Mean Method with"
       ]
      },
      {
       "output_type": "stream",
       "stream": "stdout",
       "text": [
        " 1000000 samples: 20.1312032795\n"
       ]
      }
     ],
     "prompt_number": 5
    },
    {
     "cell_type": "markdown",
     "metadata": {},
     "source": [
      "<h2>Question 2</h2>\n",
      "Use the sample mean method to compute the volume of a sphere with radius 1 using spherical coordinates:\n",
      "<div style=\"font-size: 30px\">$V = \\int_0^1\\int_0^{\\pi}\\int_0^{2\\pi} r^2\\sin(\\theta)drd\\theta d\\phi$</div><br>\n",
      "for $N = (10^{1}, 10^{2}, 10^{3}, 10^{4}, 10^{5}, 10^{6})$. Report the value and statistical uncertainty for each sample size. How does the result depend on N?"
     ]
    },
    {
     "cell_type": "code",
     "collapsed": false,
     "input": [
      "rmin = 0;\n",
      "rmax = 1;\n",
      "thetamin = 0;\n",
      "thetamax = np.pi;\n",
      "phimin = 0;\n",
      "phimax = 2 * np.pi;\n",
      "\n",
      "func = lambda theta,r: r**2 * np.sin(theta);\n",
      "\n",
      "for N in [10, 100, 1000, 10000, 100000, 1000000]:\n",
      "    r = rmin + (rmax - rmin) * np.random.random_sample(N);\n",
      "    theta = thetamin + (thetamax - thetamin) * np.random.random_sample(N);\n",
      "    \n",
      "    approx = func(theta, r);\n",
      "    I = (rmax - rmin)*(thetamax - thetamin) * (phimax - phimin) * approx.mean();\n",
      "    \n",
      "    print \"Electric potential using Sample Mean Method with\",N,\"samples:\",I\n",
      "    "
     ],
     "language": "python",
     "metadata": {},
     "outputs": [
      {
       "output_type": "stream",
       "stream": "stdout",
       "text": [
        "Electric potential using Sample Mean Method with 10 samples: 3.90863514969\n",
        "Electric potential using Sample Mean Method with 100 samples: 4.55088943908\n",
        "Electric potential using Sample Mean Method with 1000 samples: 4.21050022991\n",
        "Electric potential using Sample Mean Method with 10000 samples: 4.13743243776\n",
        "Electric potential using Sample Mean Method with 100000 samples: 4.19166717333\n",
        "Electric potential using Sample Mean Method with"
       ]
      },
      {
       "output_type": "stream",
       "stream": "stdout",
       "text": [
        " 1000000 samples: 4.19057450499\n"
       ]
      }
     ],
     "prompt_number": 6
    },
    {
     "cell_type": "heading",
     "level": 2,
     "metadata": {},
     "source": [
      "Question 3"
     ]
    },
    {
     "cell_type": "markdown",
     "metadata": {},
     "source": [
      "<p><strong>(a)</strong> Use the hit or miss Monte Carlo method to estimate the integral of $f(x) = 4\\sqrt{1-x^2}$ in the interval $0\\leq x \\leq 1$ as a function of $N$, the number of samples. Let <span class=\"math\">\\(N\\)</span> range from $10^1$ to $10^{6}$ and use at least 100 different values for <span class=\"math\">\\(N\\)</span>.</p>\n",
      "<p>(<code>np.logspace</code> might be useful here to get evenly spaced values for <span class=\"math\">\\(N\\)</span>.)</p>"
     ]
    },
    {
     "cell_type": "code",
     "collapsed": false,
     "input": [
      "%pylab inline\n",
      "import numpy as np;"
     ],
     "language": "python",
     "metadata": {},
     "outputs": [
      {
       "output_type": "stream",
       "stream": "stdout",
       "text": [
        "Populating the interactive namespace from numpy and matplotlib\n"
       ]
      },
      {
       "output_type": "stream",
       "stream": "stderr",
       "text": [
        "WARNING: pylab import has clobbered these variables: ['f']\n",
        "`%matplotlib` prevents importing * from pylab and numpy\n"
       ]
      }
     ],
     "prompt_number": 9
    },
    {
     "cell_type": "code",
     "collapsed": false,
     "input": [
      "xmin = 0;\n",
      "xmax = 1;\n",
      "ymax = 4;\n",
      "ymin = 0;\n",
      "f = lambda x: 4*np.sqrt(1 - x**2);\n",
      "Is = [];\n",
      "\n",
      "for N in np.logspace(1, 6, 100):\n",
      "    x = xmin + (xmax - xmin) * np.random.random_sample(N);\n",
      "    y = ymin + (ymax - ymin) * np.random.random_sample(N);\n",
      "    hits = y < f(x);\n",
      "    I = (xmax - xmin) * (ymax - ymin) * hits.sum() / N;\n",
      "    Is.append(I);\n",
      "    print I;"
     ],
     "language": "python",
     "metadata": {},
     "outputs": [
      {
       "output_type": "stream",
       "stream": "stdout",
       "text": [
        "4.0\n",
        "1.78043017089\n",
        "2.53594527473\n",
        "3.10411301672\n",
        "3.01453989208\n",
        "2.45995648031\n",
        "2.9862141386\n",
        "3.72172202437\n",
        "3.47090133231\n",
        "2.80895338737\n",
        "2.75062994773\n",
        "3.33907128265\n",
        "2.97249162719\n",
        "3.17538826546\n",
        "3.37642991807\n",
        "3.28535339201\n",
        "2.86244410483\n",
        "3.3791227462\n",
        "3.20540152255\n",
        "3.51199604958\n",
        "3.28275345653\n",
        "2.9571466089\n",
        "2.94220199419\n",
        "3.11546067117\n",
        "3.16612815308\n",
        "2.92778058868\n",
        "3.05371379228\n",
        "3.06476298701\n",
        "3.11365110372\n",
        "3.07370048054\n",
        "3.12714804105\n",
        "3.04481883186\n",
        "3.03968110058\n",
        "3.06791499861\n",
        "2.99194000821\n",
        "3.13469946076\n",
        "3.12493718655\n",
        "3.05788797055\n",
        "3.16061728964\n",
        "3.15246563271\n",
        "3.15764629464\n",
        "3.05911236927\n",
        "3.15596500256\n",
        "3.16774446941\n",
        "3.07175729863\n",
        "3.11449767133\n",
        "3.11463114227\n",
        "3.1245646356\n",
        "3.08875333589\n",
        "3.17463803097\n",
        "3.08031741087\n",
        "3.10656027093\n",
        "3.11734284163\n",
        "3.15483033179\n",
        "3.09104922075\n",
        "3.13936521101\n",
        "3.11189949038\n",
        "3.1065616989\n",
        "3.12278819698\n",
        "3.14410439727\n",
        "3.14809585774\n",
        "3.15781554215\n",
        "3.15051698845\n",
        "3.14518398715\n",
        "3.15505997427\n",
        "3.12777929181\n",
        "3.11784805131\n",
        "3.15173377831\n",
        "3.14751600316\n",
        "3.13819693574\n",
        "3.13799632107\n",
        "3.13946029095\n",
        "3.13336752\n",
        "3.13980073189\n",
        "3.15392267976\n",
        "3.14346340982"
       ]
      },
      {
       "output_type": "stream",
       "stream": "stdout",
       "text": [
        "\n",
        "3.14545482493\n",
        "3.14197870108\n",
        "3.14150403367\n",
        "3.14187176606\n",
        "3.14624499687\n",
        "3.14173682428\n",
        "3.14313151599"
       ]
      },
      {
       "output_type": "stream",
       "stream": "stdout",
       "text": [
        "\n",
        "3.13911093839\n",
        "3.14604329176\n",
        "3.14247185858"
       ]
      },
      {
       "output_type": "stream",
       "stream": "stdout",
       "text": [
        "\n",
        "3.14129220307\n",
        "3.14478800024"
       ]
      },
      {
       "output_type": "stream",
       "stream": "stdout",
       "text": [
        "\n",
        "3.13915310957\n",
        "3.13706058757"
       ]
      },
      {
       "output_type": "stream",
       "stream": "stdout",
       "text": [
        "\n",
        "3.14505183308\n",
        "3.14317249484"
       ]
      },
      {
       "output_type": "stream",
       "stream": "stdout",
       "text": [
        "\n",
        "3.14253883644\n",
        "3.13896846138"
       ]
      },
      {
       "output_type": "stream",
       "stream": "stdout",
       "text": [
        "\n",
        "3.14233526564"
       ]
      },
      {
       "output_type": "stream",
       "stream": "stdout",
       "text": [
        "\n",
        "3.14031923242"
       ]
      },
      {
       "output_type": "stream",
       "stream": "stdout",
       "text": [
        "\n",
        "3.14372522761"
       ]
      },
      {
       "output_type": "stream",
       "stream": "stdout",
       "text": [
        "\n",
        "3.13947468793"
       ]
      },
      {
       "output_type": "stream",
       "stream": "stdout",
       "text": [
        "\n",
        "3.14033770682"
       ]
      },
      {
       "output_type": "stream",
       "stream": "stdout",
       "text": [
        "\n",
        "3.140732"
       ]
      },
      {
       "output_type": "stream",
       "stream": "stdout",
       "text": [
        "\n"
       ]
      }
     ],
     "prompt_number": 30
    },
    {
     "cell_type": "markdown",
     "metadata": {},
     "source": [
      "<p><strong>(b)</strong> Calculate the percent error for the $N$ values from part (a) using the exact result $pi$. Make a log-log plot of the error as a function of$N$.</p>\n",
      "<p>What is the approximate functional dependence of the error on $N$ for large $N$, for example $N \\geq 10^4$?</p>"
     ]
    },
    {
     "cell_type": "code",
     "collapsed": false,
     "input": [
      "N = np.logspace(1, 6, 100);\n",
      "Is = np.array(Is);\n",
      "err = 100 * (Is - np.pi) / np.pi;\n",
      "\n",
      "plt.plot(N, err, \"bo\", label=\"% error\");\n",
      "\n",
      "plt.xlabel(\"N\", fontsize=15);\n",
      "plt.ylabel(\"% error\", fontsize=15);\n",
      "plt.xscale(\"log\");\n",
      "plt.yscale(\"log\");\n",
      "\n",
      "plt.show();"
     ],
     "language": "python",
     "metadata": {},
     "outputs": [
      {
       "metadata": {},
       "output_type": "display_data",
       "png": "[encoded data removed]",
       "text": [
        "<matplotlib.figure.Figure at 0x438e4d0>"
       ]
      }
     ],
     "prompt_number": 31
    },
    {
     "cell_type": "markdown",
     "metadata": {},
     "source": [
      "<p><strong>(c)</strong> Estimate the same integral using the sample mean method and compute the statistical uncertainty and error as a function of the number of samples <span class=\"math\">\\(N\\)</span> for <span class=\"math\">\\(N \\geq 10^4\\)</span>. Use at least 100 different values for <span class=\"math\">\\(N\\)</span>.</p>\n",
      "<p>Make a log-log plot of both the statistical uncertainty and the error as a function of <span class=\"math\">\\(N\\)</span>.</p>\n",
      "<p>How many samples are needed to determine the result to two decimal places? What is the approximate functional dependence of the error on <span class=\"math\">\\(N\\)</span> for large <span class=\"math\">\\(N\\)</span>?</p>"
     ]
    },
    {
     "cell_type": "code",
     "collapsed": false,
     "input": [
      "xmin = 0;\n",
      "xmax = 1;\n",
      "f = lambda x: 4*np.sqrt(1 - x**2);\n",
      "Is = [];\n",
      "\n",
      "for N in np.logspace(1, 6, 100):\n",
      "    x = xmin + (xmax - xmin) * np.random.random_sample(N);\n",
      "    y = f(x);\n",
      "    I = (xmax - xmin) * y.mean();\n",
      "    Is.append(I);\n",
      "    print I;"
     ],
     "language": "python",
     "metadata": {},
     "outputs": [
      {
       "output_type": "stream",
       "stream": "stdout",
       "text": [
        "2.6841535851\n",
        "2.7980744692\n",
        "3.20275769328\n",
        "3.06015450486\n",
        "3.23904477251\n",
        "3.29457628639\n",
        "3.22121230697\n",
        "3.11961012638\n",
        "3.20976076818\n",
        "3.18166177687\n",
        "3.21190652516\n",
        "3.15544235567\n",
        "3.16351096638\n",
        "3.18028331133\n",
        "3.08407560616\n",
        "3.07811078972\n",
        "3.07130116725\n",
        "3.22613584082\n",
        "3.15037440504\n",
        "3.10930250893\n",
        "3.12355410659\n",
        "3.11973298064\n",
        "3.1935874054\n",
        "3.15010074585\n",
        "3.14434306753\n",
        "3.01671999637\n",
        "3.21573569802\n",
        "3.19013871397\n",
        "3.1595333873\n",
        "3.17385632681\n",
        "3.22891587582\n",
        "3.14282785377\n",
        "3.120951018\n",
        "3.07188178839\n",
        "3.16624800918\n",
        "3.13469966736\n",
        "3.18592038033\n",
        "3.14020994816\n",
        "3.1912365045\n",
        "3.17897125221\n",
        "3.1119064695\n",
        "3.11611248142\n",
        "3.16998235076\n",
        "3.13389964847\n",
        "3.16721911876\n",
        "3.15325375399\n",
        "3.1336467067\n",
        "3.1723955686\n",
        "3.1324276456\n",
        "3.13275297103\n",
        "3.19200464675\n",
        "3.13644931703\n",
        "3.14746152121\n",
        "3.15273299115\n",
        "3.14045464179\n",
        "3.15153439246\n",
        "3.13116037033\n",
        "3.12412061776\n",
        "3.14149517961\n",
        "3.14043674973\n",
        "3.14005943983\n",
        "3.13865460376\n",
        "3.13377041669\n",
        "3.15057175229\n",
        "3.14700684226\n",
        "3.14441359768\n",
        "3.14706464739\n",
        "3.14378866818\n",
        "3.15175598352\n",
        "3.13506210758\n",
        "3.14584115395\n",
        "3.13778347366\n",
        "3.14689824551\n",
        "3.13921491018\n",
        "3.1506739709\n",
        "3.14680511738\n",
        "3.14040019521\n",
        "3.14585575371\n",
        "3.14305734578\n",
        "3.13987977337\n",
        "3.13942596402"
       ]
      },
      {
       "output_type": "stream",
       "stream": "stdout",
       "text": [
        "\n",
        "3.1436096221\n",
        "3.14456366955\n",
        "3.14168859186\n",
        "3.13900889156\n",
        "3.14339313199"
       ]
      },
      {
       "output_type": "stream",
       "stream": "stdout",
       "text": [
        "\n",
        "3.14088703141\n",
        "3.14157989761\n",
        "3.14365256264\n",
        "3.14340918537"
       ]
      },
      {
       "output_type": "stream",
       "stream": "stdout",
       "text": [
        "\n",
        "3.14024022766\n",
        "3.14130489999\n",
        "3.14129344559"
       ]
      },
      {
       "output_type": "stream",
       "stream": "stdout",
       "text": [
        "\n",
        "3.13990483608\n",
        "3.14193479333"
       ]
      },
      {
       "output_type": "stream",
       "stream": "stdout",
       "text": [
        "\n",
        "3.14295250618\n",
        "3.14251849457"
       ]
      },
      {
       "output_type": "stream",
       "stream": "stdout",
       "text": [
        "\n",
        "3.14330422554\n",
        "3.14215512146"
       ]
      },
      {
       "output_type": "stream",
       "stream": "stdout",
       "text": [
        "\n",
        "3.14019969999"
       ]
      },
      {
       "output_type": "stream",
       "stream": "stdout",
       "text": [
        "\n"
       ]
      }
     ],
     "prompt_number": 32
    },
    {
     "cell_type": "code",
     "collapsed": false,
     "input": [
      "N = np.logspace(1, 6, 100);\n",
      "Is = np.array(Is);\n",
      "err = 100 * (Is - np.pi) / np.pi;\n",
      "\n",
      "plt.plot(N, err, \"bo\", label=\"% error\");\n",
      "\n",
      "plt.xlabel(\"N\", fontsize=15);\n",
      "plt.ylabel(\"% error\", fontsize=15);\n",
      "plt.xscale(\"log\");\n",
      "plt.yscale(\"log\");\n",
      "\n",
      "plt.show();"
     ],
     "language": "python",
     "metadata": {},
     "outputs": [
      {
       "metadata": {},
       "output_type": "display_data",
       "png": "[encoded data removed]",
       "text": [
        "<matplotlib.figure.Figure at 0x43740d0>"
       ]
      }
     ],
     "prompt_number": 33
    },
    {
     "cell_type": "code",
     "collapsed": false,
     "input": [],
     "language": "python",
     "metadata": {},
     "outputs": []
    }
   ],
   "metadata": {}
  }
 ]
}