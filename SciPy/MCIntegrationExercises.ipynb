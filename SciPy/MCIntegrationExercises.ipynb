{
 "metadata": {
  "name": "",
  "signature": "sha256:f4fd00bf24841a63a6142f2416816f9b8010e051f0be064e69bea4a97ded50c4"
 },
 "nbformat": 3,
 "nbformat_minor": 0,
 "worksheets": [
  {
   "cells": [
    {
     "cell_type": "heading",
     "level": 1,
     "metadata": {},
     "source": [
      "Monte Carlo Integration Exercises"
     ]
    },
    {
     "cell_type": "markdown",
     "metadata": {},
     "source": [
      "<h2>Question 1</h2>\n",
      "<p>Let\u2019s compute the electric potential from a plane of charge as shown in the figure using Monte Carlo integration.\n",
      "</p>\n",
      "<img src=\"https://polylearn.calpoly.edu/AY_2013-2014/pluginfile.php/443226/mod_resource/content/2/surfacecharge.png\" style = \"width: 500px; height: 400px\"></img>\n",
      "<p>\n",
      "The integral comes from summing all the potentials from the chunks of \u201cpoint\u201d charges. Just as we summed two charges for a dipole, now we\u2019ll sum many charges. The important part is to understand how dQ, modeled as a point charge, is related to \u03c3dA, where \u03c3 is the surface charge density = charge/area (\u03c3=Q/A ) Review your notes from PHYS 133 if you need a refresher.\n",
      "We want to use our previously defined pointPotential() function from Electrostatics.py, so we have to import it.</p>"
     ]
    },
    {
     "cell_type": "code",
     "collapsed": false,
     "input": [
      "#import our point potential function\n",
      "from Electrostatics import *"
     ],
     "language": "python",
     "metadata": {},
     "outputs": [],
     "prompt_number": 1
    },
    {
     "cell_type": "code",
     "collapsed": false,
     "input": [
      "!cat Electrostatics.py"
     ],
     "language": "python",
     "metadata": {},
     "outputs": [
      {
       "output_type": "stream",
       "stream": "stdout",
       "text": [
        "\r\n",
        "import numpy as np\r\n",
        "\r\n",
        "def pointPotential(x,y,q,Xc,Yc):\r\n",
        "    \"\"\"\r\n",
        "    Return the electric potential for a \r\n",
        "    point charge q at (Xc,Yc)\r\n",
        "    \r\n",
        "    Units returned are [Volts] if input \r\n",
        "    units are [meters] and [Coulombs]                                   \r\n",
        "    \"\"\"\r\n",
        "    k = 8.987551787997912e9 #(Nm^2/C^2)                                                                        \r\n",
        "    Vxy = k*q/np.sqrt(((x-Xc)**2 + (y-Yc)**2))\r\n",
        "    return Vxy\r\n",
        "\r\n",
        "def dipolePotential(x,y,q,d):\r\n",
        "    \"\"\"\r\n",
        "    Return the electric potential for a \r\n",
        "    pair of point charges +/- q                                         \r\n",
        "    separated by distance d along the x-axis \r\n",
        "    with their midpoint at (0,0).                                  \r\n",
        "                                                                                                               \r\n",
        "    Units returned are [Volts] if input\r\n",
        "    units are [meters] and [Coulombs]                                   \r\n",
        "    \"\"\"\r\n",
        "    Vxy=pointPotential(x,y,q,-d/2.,0.) + pointPotential(x,y,-q,+d/2.,0.)\r\n",
        "    return Vxy\r\n",
        " "
       ]
      }
     ],
     "prompt_number": 2
    },
    {
     "cell_type": "markdown",
     "metadata": {},
     "source": [
      "<Strong>(a)</Strong> Use the sample mean method to compute the potential at point P(2,3) due to the disk of charge for different numbers of samples N=(101,102,103,104,105,106). Report the value and its statistical uncertainty for each sample size. How does the result depend on N?"
     ]
    },
    {
     "cell_type": "code",
     "collapsed": false,
     "input": [
      "xmin = -1;\n",
      "xmax = 1;\n",
      "ymin = 0;\n",
      "ymax = 2;\n",
      "q = .000001;\n",
      "\n",
      "i = (10,100,1000,10000,100000,1000000)\n",
      "for N in i:\n",
      "    x = xmin + (xmax-xmin)*np.random.random_sample(N);\n",
      "    y = ymin + (ymax-ymin)*np.random.random_sample(N);\n",
      "    \n",
      "    I = (xmax-xmin)*(ymax-ymin)*pointPotential(x, y, q, 2, 3).mean();\n",
      "    \n",
      "    print \"Electric potential using Sample Mean Method with\",N,\"samples:\",I"
     ],
     "language": "python",
     "metadata": {},
     "outputs": [
      {
       "output_type": "stream",
       "stream": "stdout",
       "text": [
        "Electric potential using Sample Mean Method with 10 samples: 13008.2723738\n",
        "Electric potential using Sample Mean Method with 100 samples: 13540.212011\n",
        "Electric potential using Sample Mean Method with 1000 samples: 13024.3867683\n",
        "Electric potential using Sample Mean Method with 10000 samples: 13016.2627433\n",
        "Electric potential using Sample Mean Method with 100000 samples: 13028.4686257\n",
        "Electric potential using Sample Mean Method with"
       ]
      },
      {
       "output_type": "stream",
       "stream": "stdout",
       "text": [
        " 1000000 samples: 13029.8317746\n"
       ]
      }
     ],
     "prompt_number": 6
    },
    {
     "cell_type": "markdown",
     "metadata": {},
     "source": [
      "<Strong>(b)</Strong> Now use the same method to compute the electric potential, V, at point P(2,3), from a disk centered on the origin with radius, R=1.2 m, and charge density, \u03c3 = 2 nC/m2 ."
     ]
    },
    {
     "cell_type": "markdown",
     "metadata": {},
     "source": [
      "<img src =\"https://polylearn.calpoly.edu/AY_2013-2014/pluginfile.php/443226/mod_resource/content/2/chargeddisk.png\" style=\"width: 500px; height: 400px\">\n",
      "</img>"
     ]
    },
    {
     "cell_type": "markdown",
     "metadata": {},
     "source": [
      "The Integral is <div style=\"font-size: 30px\">$V = {\\int_0^{2\\pi}\\int_0^{1.2} \\frac{K\\sigma}{|r-r_0|}} rd\\theta dr$ </div>"
     ]
    },
    {
     "cell_type": "code",
     "collapsed": false,
     "input": [
      "rmin = 0;\n",
      "rmax = 1.2;\n",
      "tmin = 0;\n",
      "tmax = 2*np.pi;\n",
      "q = .000000002;\n",
      "\n",
      "i = (10,100,1000,10000,100000,1000000)\n",
      "for N in i:\n",
      "    r = rmin + (rmax-rmin)*np.random.random_sample(N);\n",
      "    theta = tmin + (tmax-tmin)*np.random.random_sample(N);\n",
      "    x = r * np.cos(theta);\n",
      "    y = r * np.sin(theta);\n",
      "    \n",
      "    I = (xmax-xmin)*(ymax-ymin)*pointPotential(x, y, q, 2, 3).mean();\n",
      "    \n",
      "    print \"Electric potential using Sample Mean Method with\",N,\"samples:\",I"
     ],
     "language": "python",
     "metadata": {},
     "outputs": [
      {
       "output_type": "stream",
       "stream": "stdout",
       "text": [
        "Electric potential using Sample Mean Method with 10 samples: 21.8171195659\n",
        "Electric potential using Sample Mean Method with 100 samples: 20.925647641\n",
        "Electric potential using Sample Mean Method with 1000 samples: 20.1361040376\n",
        "Electric potential using Sample Mean Method with 10000 samples: 20.1221727992\n",
        "Electric potential using Sample Mean Method with 100000 samples: 20.11140467\n",
        "Electric potential using Sample Mean Method with"
       ]
      },
      {
       "output_type": "stream",
       "stream": "stdout",
       "text": [
        " 1000000 samples: 20.1295498794\n"
       ]
      }
     ],
     "prompt_number": 8
    },
    {
     "cell_type": "markdown",
     "metadata": {},
     "source": [
      "<h2>Question 2</h2>\n",
      "Use the sample mean method to compute the volume of a sphere with radius 1 using spherical coordinates:\n",
      "<div style=\"font-size: 30px\">$V = \\int_0^1\\int_0^{\\pi}\\int_0^{2\\pi} r^2\\sin(\\theta)drd\\theta d\\phi$</div><br>\n",
      "for $N = (10^{1}, 10^{2}, 10^{3}, 10^{4}, 10^{5}, 10^{6})$. Report the value and statistical uncertainty for each sample size. How does the result depend on N?"
     ]
    },
    {
     "cell_type": "code",
     "collapsed": false,
     "input": [
      "rmin = 0;\n",
      "rmax = 1;\n",
      "thetamin = 0;\n",
      "thetamax = 2 * np.pi;\n",
      "phimin = 0;\n",
      "phimax = np.pi;\n",
      "\n",
      "func = lambda theta,r: r**2 * np.sin(theta);\n",
      "\n",
      "for N in [10, 100, 1000, 10000, 100000, 1000000]:\n",
      "    r = rmin + (rmax - rmin) * np.random.random_sample(N);\n",
      "    theta = thetamin + (thetamax - thetamin) * np.random.random_sample(N);\n",
      "    \n",
      "    approx = func(theta, r);\n",
      "    I = (rmax - rmin)*(thetamax - thetamin) * (phimax - phimin) * approx.mean();\n",
      "    \n",
      "    print \"Electric potential using Sample Mean Method with\",N,\"samples:\",I\n",
      "    "
     ],
     "language": "python",
     "metadata": {},
     "outputs": [
      {
       "output_type": "stream",
       "stream": "stdout",
       "text": [
        "Electric potential using Sample Mean Method with 10 samples: 0.0210718963893\n",
        "Electric potential using Sample Mean Method with 100 samples: 0.348272661142\n",
        "Electric potential using Sample Mean Method with 1000 samples: -0.216359933192\n",
        "Electric potential using Sample Mean Method with 10000 samples: -0.0346684238809\n",
        "Electric potential using Sample Mean Method with 100000 samples: 0.0178807182285\n",
        "Electric potential using Sample Mean Method with"
       ]
      },
      {
       "output_type": "stream",
       "stream": "stdout",
       "text": [
        " 1000000 samples: 0.00276154814629\n"
       ]
      }
     ],
     "prompt_number": 9
    },
    {
     "cell_type": "heading",
     "level": 2,
     "metadata": {},
     "source": [
      "Question 3"
     ]
    },
    {
     "cell_type": "markdown",
     "metadata": {},
     "source": [
      "<p><strong>(a)</strong> Use the hit or miss Monte Carlo method to estimate the integral of <span class=\"math\">\\(f(x) = 4\\sqrt{1-x^2}\\)</span> in the interval <span class=\"math\">\\(0\\leq x \\leq 1\\)</span> as a function of <span class=\"math\">\\(N\\)</span>, the number of samples. Let <span class=\"math\">\\(N\\)</span> range from 10<span class=\"math\">\\(^1\\)</span> to 10<span class=\"math\">\\(^6\\)</span> and use at least 100 different values for <span class=\"math\">\\(N\\)</span>.</p>\n",
      "<p>(<code>np.logspace</code> might be useful here to get evenly spaced values for <span class=\"math\">\\(N\\)</span>.)</p>"
     ]
    },
    {
     "cell_type": "markdown",
     "metadata": {},
     "source": [
      "<p><strong>(b)</strong> Calculate the percent error for the <span class=\"math\">\\(N\\)</span> values from part (a) using the exact result <span class=\"math\">\\(\\pi\\)</span>. Make a log-log plot of the error as a function of <span class=\"math\">\\(N\\)</span>.</p>\n",
      "<p>What is the approximate functional dependence of the error on <span class=\"math\">\\(N\\)</span> for large <span class=\"math\">\\(N\\)</span>, for example <span class=\"math\">\\(N \\geq 10^4\\)</span>?</p>"
     ]
    },
    {
     "cell_type": "markdown",
     "metadata": {},
     "source": [
      "<p><strong>(c)</strong> Estimate the same integral using the sample mean method and compute the statistical uncertainty and error as a function of the number of samples <span class=\"math\">\\(N\\)</span> for <span class=\"math\">\\(N \\geq 10^4\\)</span>. Use at least 100 different values for <span class=\"math\">\\(N\\)</span>.</p>\n",
      "<p>Make a log-log plot of both the statistical uncertainty and the error as a function of <span class=\"math\">\\(N\\)</span>.</p>\n",
      "<p>How many samples are needed to determine the result to two decimal places? What is the approximate functional dependence of the error on <span class=\"math\">\\(N\\)</span> for large <span class=\"math\">\\(N\\)</span>?</p>"
     ]
    },
    {
     "cell_type": "code",
     "collapsed": false,
     "input": [],
     "language": "python",
     "metadata": {},
     "outputs": []
    }
   ],
   "metadata": {}
  }
 ]
}