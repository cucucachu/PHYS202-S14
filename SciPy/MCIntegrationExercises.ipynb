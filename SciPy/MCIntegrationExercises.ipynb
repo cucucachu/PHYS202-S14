{
 "metadata": {
  "name": "",
  "signature": "sha256:7a3a355c26b53f1752b9a7104539e707f78398f3933d1d1aa6fb9a18fc987f62"
 },
 "nbformat": 3,
 "nbformat_minor": 0,
 "worksheets": [
  {
   "cells": [
    {
     "cell_type": "heading",
     "level": 1,
     "metadata": {},
     "source": [
      "Monte Carlo Integration Exercises"
     ]
    },
    {
     "cell_type": "markdown",
     "metadata": {},
     "source": [
      "<h2>Question 1</h2>\n",
      "<p>Let\u2019s compute the electric potential from a plane of charge as shown in the figure using Monte Carlo integration.\n",
      "</p>\n",
      "<img src=\"https://polylearn.calpoly.edu/AY_2013-2014/pluginfile.php/443226/mod_resource/content/2/surfacecharge.png\" style = \"width: 500px; height: 400px\"></img>\n",
      "<p>\n",
      "The integral comes from summing all the potentials from the chunks of \u201cpoint\u201d charges. Just as we summed two charges for a dipole, now we\u2019ll sum many charges. The important part is to understand how dQ, modeled as a point charge, is related to \u03c3dA, where \u03c3 is the surface charge density = charge/area (\u03c3=Q/A ) Review your notes from PHYS 133 if you need a refresher.\n",
      "We want to use our previously defined pointPotential() function from Electrostatics.py, so we have to import it.</p>"
     ]
    },
    {
     "cell_type": "code",
     "collapsed": false,
     "input": [
      "#import our point potential function\n",
      "from Electrostatics import *"
     ],
     "language": "python",
     "metadata": {},
     "outputs": [],
     "prompt_number": 2
    },
    {
     "cell_type": "code",
     "collapsed": false,
     "input": [
      "!cat Electrostatics.py"
     ],
     "language": "python",
     "metadata": {},
     "outputs": [
      {
       "output_type": "stream",
       "stream": "stdout",
       "text": [
        "\r\n",
        "import numpy as np\r\n",
        "\r\n",
        "def pointPotential(x,y,q,Xc,Yc):\r\n",
        "    \"\"\"\r\n",
        "    Return the electric potential for a \r\n",
        "    point charge q at (Xc,Yc)\r\n",
        "    \r\n",
        "    Units returned are [Volts] if input \r\n",
        "    units are [meters] and [Coulombs]                                   \r\n",
        "    \"\"\"\r\n",
        "    k = 8.987551787997912e9 #(Nm^2/C^2)                                                                        \r\n",
        "    Vxy = k*q/np.sqrt(((x-Xc)**2 + (y-Yc)**2))\r\n",
        "    return Vxy\r\n",
        "\r\n",
        "def dipolePotential(x,y,q,d):\r\n",
        "    \"\"\"\r\n",
        "    Return the electric potential for a \r\n",
        "    pair of point charges +/- q                                         \r\n",
        "    separated by distance d along the x-axis \r\n",
        "    with their midpoint at (0,0).                                  \r\n",
        "                                                                                                               \r\n",
        "    Units returned are [Volts] if input\r\n",
        "    units are [meters] and [Coulombs]                                   \r\n",
        "    \"\"\"\r\n",
        "    Vxy=pointPotential(x,y,q,-d/2.,0.) + pointPotential(x,y,-q,+d/2.,0.)\r\n",
        "    return Vxy\r\n",
        " "
       ]
      }
     ],
     "prompt_number": 3
    },
    {
     "cell_type": "markdown",
     "metadata": {},
     "source": [
      "<Strong>(a)</Strong> Use the sample mean method to compute the potential at point P(2,3) due to the disk of charge for different numbers of samples N=(101,102,103,104,105,106). Report the value and its statistical uncertainty for each sample size. How does the result depend on N?"
     ]
    },
    {
     "cell_type": "code",
     "collapsed": false,
     "input": [
      "xmin = -1;\n",
      "xmax = 1;\n",
      "ymin = 0;\n",
      "ymax = 2;\n",
      "q = .000001;\n",
      "\n",
      "i = (10,100,1000,10000,100000,1000000)\n",
      "for N in i:\n",
      "    x = xmin + (xmax-xmin)*np.random.random_sample(N);\n",
      "    y = ymin + (ymax-ymin)*np.random.random_sample(N);\n",
      "    \n",
      "    I = (xmax-xmin)*(ymax-ymin)*pointPotential(x, y, q, 2, 3).mean();\n",
      "    \n",
      "    print \"Electric potential using Sample Mean Method with\",N,\"samples:\",I"
     ],
     "language": "python",
     "metadata": {},
     "outputs": [
      {
       "output_type": "stream",
       "stream": "stdout",
       "text": [
        "Electric potential using Sample Mean Method with 10 samples: 12608.6385616\n",
        "Electric potential using Sample Mean Method with 100 samples: 12930.7633246\n",
        "Electric potential using Sample Mean Method with 1000 samples: 13113.8552805\n",
        "Electric potential using Sample Mean Method with 10000 samples: 13072.3488829\n",
        "Electric potential using Sample Mean Method with 100000 samples: 13016.3229874\n",
        "Electric potential using Sample Mean Method with"
       ]
      },
      {
       "output_type": "stream",
       "stream": "stdout",
       "text": [
        " 1000000 samples: 13026.3571141\n"
       ]
      }
     ],
     "prompt_number": 4
    },
    {
     "cell_type": "markdown",
     "metadata": {},
     "source": [
      "<Strong>(b)</Strong> Now use the same method to compute the electric potential, V, at point P(2,3), from a disk centered on the origin with radius, R=1.2 m, and charge density, \u03c3 = 2 nC/m2 ."
     ]
    },
    {
     "cell_type": "markdown",
     "metadata": {},
     "source": [
      "<img src =\"https://polylearn.calpoly.edu/AY_2013-2014/pluginfile.php/443226/mod_resource/content/2/chargeddisk.png\" style=\"width: 500px; height: 400px\">\n",
      "</img>"
     ]
    },
    {
     "cell_type": "markdown",
     "metadata": {},
     "source": [
      "The Integral is <div style=\"font-size: 30px\">$V = {\\int_0^{2\\pi}\\int_0^{1.2} \\frac{K\\sigma}{|r-r_0|}} rd\\theta dr$ </div>"
     ]
    },
    {
     "cell_type": "code",
     "collapsed": false,
     "input": [
      "rmin = 0;\n",
      "rmax = 1.2;\n",
      "tmin = 0;\n",
      "tmax = 2*np.pi;\n",
      "q = .000000002;\n",
      "\n",
      "i = (10,100,1000,10000,100000,1000000)\n",
      "for N in i:\n",
      "    r = rmin + (rmax-rmin)*np.random.random_sample(N);\n",
      "    theta = tmin + (tmax-tmin)*np.random.random_sample(N);\n",
      "    x = r * np.cos(theta);\n",
      "    y = r * np.sin(theta);\n",
      "    \n",
      "    I = (xmax-xmin)*(ymax-ymin)*pointPotential(x, y, q, 2, 3).mean();\n",
      "    \n",
      "    print \"Electric potential using Sample Mean Method with\",N,\"samples:\",I"
     ],
     "language": "python",
     "metadata": {},
     "outputs": [
      {
       "output_type": "stream",
       "stream": "stdout",
       "text": [
        "Electric potential using Sample Mean Method with 10 samples: 20.5955096601\n",
        "Electric potential using Sample Mean Method with 100 samples: 20.5212430643\n",
        "Electric potential using Sample Mean Method with 1000 samples: 20.1618647039\n",
        "Electric potential using Sample Mean Method with 10000 samples: 20.118654678\n",
        "Electric potential using Sample Mean Method with 100000 samples: 20.1215767627\n",
        "Electric potential using Sample Mean Method with"
       ]
      },
      {
       "output_type": "stream",
       "stream": "stdout",
       "text": [
        " 1000000 samples: 20.1337900733\n"
       ]
      }
     ],
     "prompt_number": 5
    },
    {
     "cell_type": "markdown",
     "metadata": {},
     "source": [
      "<h2>Question 2</h2>\n",
      "Use the sample mean method to compute the volume of a sphere with radius 1 using spherical coordinates:\n",
      "<div style=\"font-size: 30px\">$V = \\int_0^1\\int_0^{\\pi}\\int_0^{2\\pi} r^2\\sin(\\theta)drd\\theta d\\phi$</div><br>\n",
      "for $N = (10^{1}, 10^{2}, 10^{3}, 10^{4}, 10^{5}, 10^{6})$. Report the value and statistical uncertainty for each sample size. How does the result depend on N?"
     ]
    },
    {
     "cell_type": "code",
     "collapsed": false,
     "input": [
      "rmin = 0;\n",
      "rmax = 1;\n",
      "thetamin = 0;\n",
      "thetamax = 2 * np.pi;\n",
      "phimin = 0;\n",
      "phimax = np.pi;\n",
      "\n",
      "func = lambda theta,r: r**2 * np.sin(theta);\n",
      "\n",
      "for N in [10, 100, 1000, 10000, 100000, 1000000]:\n",
      "    r = rmin + (rmax - rmin) * np.random.random_sample(N);\n",
      "    theta = thetamin + (thetamax - thetamin) * np.random.random_sample(N);\n",
      "    \n",
      "    approx = func(theta, r);\n",
      "    I = (rmax - rmin)*(thetamax - thetamin) * (phimax - phimin) * approx.mean();\n",
      "    \n",
      "    print \"Electric potential using Sample Mean Method with\",N,\"samples:\",I\n",
      "    "
     ],
     "language": "python",
     "metadata": {},
     "outputs": [
      {
       "output_type": "stream",
       "stream": "stdout",
       "text": [
        "Electric potential using Sample Mean Method with 10 samples: 2.02684211184\n",
        "Electric potential using Sample Mean Method with 100 samples: 0.248497826151\n",
        "Electric potential using Sample Mean Method with 1000 samples: 0.280325983755\n",
        "Electric potential using Sample Mean Method with 10000 samples: 0.0247904051322\n",
        "Electric potential using Sample Mean Method with 100000 samples: -0.017450883812\n",
        "Electric potential using Sample Mean Method with"
       ]
      },
      {
       "output_type": "stream",
       "stream": "stdout",
       "text": [
        " 1000000 samples: 0.00459654841925\n"
       ]
      }
     ],
     "prompt_number": 6
    },
    {
     "cell_type": "heading",
     "level": 2,
     "metadata": {},
     "source": [
      "Question 3"
     ]
    },
    {
     "cell_type": "markdown",
     "metadata": {},
     "source": [
      "<p><strong>(a)</strong> Use the hit or miss Monte Carlo method to estimate the integral of $f(x) = 4\\sqrt{1-x^2}$ in the interval $0\\leq x \\leq 1$ as a function of $N$, the number of samples. Let <span class=\"math\">\\(N\\)</span> range from $10^1$ to $10^{6}$ and use at least 100 different values for <span class=\"math\">\\(N\\)</span>.</p>\n",
      "<p>(<code>np.logspace</code> might be useful here to get evenly spaced values for <span class=\"math\">\\(N\\)</span>.)</p>"
     ]
    },
    {
     "cell_type": "code",
     "collapsed": false,
     "input": [
      "%pylab inline\n",
      "import numpy as np;"
     ],
     "language": "python",
     "metadata": {},
     "outputs": [
      {
       "output_type": "stream",
       "stream": "stdout",
       "text": [
        "Populating the interactive namespace from numpy and matplotlib\n"
       ]
      }
     ],
     "prompt_number": 9
    },
    {
     "cell_type": "code",
     "collapsed": false,
     "input": [
      "xmin = 0;\n",
      "xmax = 1;\n",
      "ymax = 5;\n",
      "ymin = 0;\n",
      "f = lambda x: 4*np.sqrt(1 - x**2);\n",
      "\n",
      "for N in np.logspace(1, 6, 100):\n",
      "    x = xmin + (xmax - xmin) * np.random.random_sample(N);\n",
      "    y = ymin + (ymax - ymin) * np.random.random_sample(N);\n",
      "    hits = y[y < f(x)]\n",
      "    I = (xmax - xmin) * (ymax - ymin) * len(hits) / N;\n",
      "    print I;"
     ],
     "language": "python",
     "metadata": {},
     "outputs": [
      {
       "output_type": "stream",
       "stream": "stdout",
       "text": [
        "5.0\n",
        "4.89618296995\n",
        "4.75489739012\n",
        "4.9383616175\n",
        "4.71021858138\n",
        "4.19310763688\n",
        "4.72817238612\n",
        "4.65215253046\n",
        "4.73304727133\n",
        "4.56454925448\n",
        "4.84485956702\n",
        "4.59122301364\n",
        "4.95415271198\n",
        "4.85128762779\n",
        "4.7112975601\n",
        "4.89307952002\n",
        "4.82259604618\n",
        "4.77785798131\n",
        "4.93138695777\n",
        "4.93874444472\n",
        "4.78734879077\n",
        "4.82710696453\n",
        "4.87786120089\n",
        "4.92821765461\n",
        "4.78600767326\n",
        "4.75218117939\n",
        "4.78966255636\n",
        "4.86985644122\n",
        "4.81691074214\n",
        "4.8369616937\n",
        "4.77928387132\n",
        "4.90705177813\n",
        "4.84025652959\n",
        "4.85825022602\n",
        "4.86190251334\n",
        "4.87449180853\n",
        "4.85611591003\n",
        "4.8168500775\n",
        "4.85414926724\n",
        "4.84128650738\n",
        "4.86342438669\n",
        "4.8181019816\n",
        "4.84136529635\n",
        "4.87552507621\n",
        "4.85881984884\n",
        "4.84572290194\n",
        "4.80544447897\n",
        "4.83613922686\n",
        "4.84170744754\n",
        "4.86317544651\n",
        "4.86036135442\n",
        "4.87126499392\n",
        "4.85311451945\n",
        "4.84759424481\n",
        "4.85974548619\n",
        "4.86501521674\n",
        "4.84619392387\n",
        "4.85218498544\n",
        "4.85258408587\n",
        "4.85831805356\n",
        "4.86259385065\n",
        "4.84722527154\n",
        "4.8497917984\n",
        "4.84502026638\n",
        "4.85019893943\n",
        "4.86232342897\n",
        "4.85185280778\n",
        "4.85449476828\n",
        "4.8508633241\n",
        "4.84862494547\n",
        "4.85268883369\n",
        "4.84594821237\n",
        "4.8556616166\n",
        "4.8480221157"
       ]
      },
      {
       "output_type": "stream",
       "stream": "stdout",
       "text": [
        "\n",
        "4.84660498634\n",
        "4.85527219896\n",
        "4.84417220852\n",
        "4.84957525968\n",
        "4.85214698413\n",
        "4.85082057209\n",
        "4.85148609494"
       ]
      },
      {
       "output_type": "stream",
       "stream": "stdout",
       "text": [
        "\n",
        "4.84918344571\n",
        "4.84880935989\n",
        "4.84933835968"
       ]
      },
      {
       "output_type": "stream",
       "stream": "stdout",
       "text": [
        "\n",
        "4.85408420256\n",
        "4.85063821771\n",
        "4.85420197828"
       ]
      },
      {
       "output_type": "stream",
       "stream": "stdout",
       "text": [
        "\n",
        "4.85037531077\n",
        "4.85164844614"
       ]
      },
      {
       "output_type": "stream",
       "stream": "stdout",
       "text": [
        "\n",
        "4.85164062546"
       ]
      },
      {
       "output_type": "stream",
       "stream": "stdout",
       "text": [
        "\n",
        "4.84943611426"
       ]
      },
      {
       "output_type": "stream",
       "stream": "stdout",
       "text": [
        "\n",
        "4.85150869697"
       ]
      },
      {
       "output_type": "stream",
       "stream": "stdout",
       "text": [
        "\n",
        "4.85017738611"
       ]
      },
      {
       "output_type": "stream",
       "stream": "stdout",
       "text": [
        "\n",
        "4.85140359251"
       ]
      },
      {
       "output_type": "stream",
       "stream": "stdout",
       "text": [
        "\n",
        "4.8506297146"
       ]
      },
      {
       "output_type": "stream",
       "stream": "stdout",
       "text": [
        "\n",
        "4.85131148485"
       ]
      },
      {
       "output_type": "stream",
       "stream": "stdout",
       "text": [
        "\n",
        "4.85090134248"
       ]
      },
      {
       "output_type": "stream",
       "stream": "stdout",
       "text": [
        "\n",
        "4.85078606489"
       ]
      },
      {
       "output_type": "stream",
       "stream": "stdout",
       "text": [
        "\n",
        "4.84883942159"
       ]
      },
      {
       "output_type": "stream",
       "stream": "stdout",
       "text": [
        "\n",
        "4.84993"
       ]
      },
      {
       "output_type": "stream",
       "stream": "stdout",
       "text": [
        "\n"
       ]
      }
     ],
     "prompt_number": 21
    },
    {
     "cell_type": "markdown",
     "metadata": {},
     "source": [
      "<p><strong>(b)</strong> Calculate the percent error for the $N$ values from part (a) using the exact result $pi$. Make a log-log plot of the error as a function of$N$.</p>\n",
      "<p>What is the approximate functional dependence of the error on $N$ for large $N$, for example $N \\geq 10^4$?</p>"
     ]
    },
    {
     "cell_type": "markdown",
     "metadata": {},
     "source": [
      "<p><strong>(c)</strong> Estimate the same integral using the sample mean method and compute the statistical uncertainty and error as a function of the number of samples <span class=\"math\">\\(N\\)</span> for <span class=\"math\">\\(N \\geq 10^4\\)</span>. Use at least 100 different values for <span class=\"math\">\\(N\\)</span>.</p>\n",
      "<p>Make a log-log plot of both the statistical uncertainty and the error as a function of <span class=\"math\">\\(N\\)</span>.</p>\n",
      "<p>How many samples are needed to determine the result to two decimal places? What is the approximate functional dependence of the error on <span class=\"math\">\\(N\\)</span> for large <span class=\"math\">\\(N\\)</span>?</p>"
     ]
    },
    {
     "cell_type": "code",
     "collapsed": false,
     "input": [],
     "language": "python",
     "metadata": {},
     "outputs": []
    }
   ],
   "metadata": {}
  }
 ]
}