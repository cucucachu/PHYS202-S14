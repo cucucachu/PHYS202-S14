{
 "metadata": {
  "name": "",
  "signature": "sha256:d437fb26efc64ddd010e19dc9ec752bfdf87c063f8b8dafe50c6965679cf497d"
 },
 "nbformat": 3,
 "nbformat_minor": 0,
 "worksheets": [
  {
   "cells": [
    {
     "cell_type": "code",
     "collapsed": false,
     "input": [
      "import numpy as np;\n",
      "import matplotlib.pyplot as plt;\n",
      "from scipy.integrate import odeint;\n",
      "\n",
      "class Body(object):\n",
      "    \n",
      "    trajectory = np.array([0, 0, 0, 0])\n",
      "    def __init__(self, pos = (10,10), speed=0, angle=np.pi/2):\n",
      "        self.trajectory = np.array([pos[0], speed*np.cos(angle), pos[1], speed*np.sin(angle)]);\n",
      "        \n",
      "    def calcTrajectory(self, time, mass, grav):\n",
      "        \n",
      "        def deriv(position, time):\n",
      "            x = position[0];\n",
      "            vx = position[1];\n",
      "            y = position[2];\n",
      "            vy = position[3];\n",
      "            radius = (x**2 + y**2)**.5;\n",
      "            \n",
      "            dxdt = vx;\n",
      "            dvxdt = -1 * grav * mass * np.cos(np.arctan2(y, x)) / radius**2;\n",
      "            dydt = vy;\n",
      "            dvydt = -1 * grav * mass * np.sin(np.arctan2(y, x)) / radius**2;\n",
      "            \n",
      "            return [dxdt, dvxdt, dydt, dvydt];\n",
      "        \n",
      "        self.trajectory = odeint(deriv, self.trajectory, time)\n",
      "        \n",
      "    def plotTrajectory(self):\n",
      "        plt.plot(self.trajectory[:,0], self.trajectory[:,2]);\n",
      "        plt.axis('equal');\n",
      "        plt.show();\n",
      "        print self.trajectory[:20]"
     ],
     "language": "python",
     "metadata": {},
     "outputs": [],
     "prompt_number": 52
    },
    {
     "cell_type": "code",
     "collapsed": false,
     "input": [
      "body = Body();"
     ],
     "language": "python",
     "metadata": {},
     "outputs": [],
     "prompt_number": 53
    },
    {
     "cell_type": "code",
     "collapsed": false,
     "input": [
      "mass = 10;\n",
      "grav = 10;\n",
      "time = np.arange(0, 20.1, .1);\n",
      "\n",
      "body.calcTrajectory(time, mass, grav);\n",
      "body.plotTrajectory();"
     ],
     "language": "python",
     "metadata": {},
     "outputs": [
      {
       "output_type": "stream",
       "stream": "stdout",
       "text": [
        "Excess work done on this call (perhaps wrong Dfun type).\n",
        "Run with full_output = 1 to get quantitative information.\n",
        "[[ 10.           0.          10.           0.        ]\n",
        " [  9.99823213  -0.03535952   9.99823213  -0.03535952]\n",
        " [  9.99292726  -0.07074405   9.99292726  -0.07074405]\n",
        " [  9.98408164  -0.10617873   9.98408164  -0.10617873]\n",
        " [  9.971689    -0.14168888   9.971689    -0.14168888]\n",
        " [  9.9557405   -0.17730009   9.9557405   -0.17730009]\n",
        " [  9.93622474  -0.2130384    9.93622474  -0.2130384 ]\n",
        " [  9.91312769  -0.24893033   9.91312769  -0.24893033]\n",
        " [  9.88643264  -0.285003     9.88643264  -0.285003  ]\n",
        " [  9.85612013  -0.3212843    9.85612013  -0.3212843 ]\n",
        " [  9.82216786  -0.35780296   9.82216786  -0.35780296]\n",
        " [  9.78455063  -0.39458871   9.78455063  -0.39458871]\n",
        " [  9.74324018  -0.43167243   9.74324018  -0.43167243]\n",
        " [  9.69820513  -0.46908628   9.69820513  -0.46908628]\n",
        " [  9.64941079  -0.50686391   9.64941079  -0.50686391]\n",
        " [  9.59681904  -0.54504059   9.59681904  -0.54504059]\n",
        " [  9.54038812  -0.5836535    9.54038812  -0.5836535 ]\n",
        " [  9.48007248  -0.62274188   9.48007248  -0.62274188]\n",
        " [  9.4158225   -0.66234732   9.4158225   -0.66234732]\n",
        " [  9.34758429  -0.70251405   9.34758429  -0.70251405]]"
       ]
      },
      {
       "output_type": "stream",
       "stream": "stdout",
       "text": [
        "\n"
       ]
      }
     ],
     "prompt_number": 54
    },
    {
     "cell_type": "code",
     "collapsed": false,
     "input": [],
     "language": "python",
     "metadata": {},
     "outputs": []
    }
   ],
   "metadata": {}
  }
 ]
}