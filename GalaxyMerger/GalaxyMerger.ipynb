{
 "metadata": {
  "name": "",
  "signature": "sha256:462ba91a1cdac532ac03f728871720faad2f381fed35f2c99a188b52273b7e38"
 },
 "nbformat": 3,
 "nbformat_minor": 0,
 "worksheets": [
  {
   "cells": [
    {
     "cell_type": "heading",
     "level": 1,
     "metadata": {},
     "source": [
      "Galaxy Merger Practice"
     ]
    },
    {
     "cell_type": "markdown",
     "metadata": {},
     "source": [
      "<h5> Todo</h5>\n",
      "<ul>\n",
      "<li>Get star to compile</li>\n",
      "<ul><li>Set up parameters </li>\n",
      "<li>Add term 2</li>\n",
      "<li>Add term 3</li>\n",
      "</ul>\n",
      "<li>Make Wrapper function</li>\n",
      "<li>Animation</li>\n",
      "</ul>"
     ]
    },
    {
     "cell_type": "code",
     "collapsed": false,
     "input": [
      "%pylab inline\n",
      "import numpy as np;\n",
      "import matplotlib.pyplot as plt;"
     ],
     "language": "python",
     "metadata": {},
     "outputs": [
      {
       "output_type": "stream",
       "stream": "stdout",
       "text": [
        "Populating the interactive namespace from numpy and matplotlib\n"
       ]
      }
     ],
     "prompt_number": 1
    },
    {
     "cell_type": "code",
     "collapsed": false,
     "input": [
      "import numpy as np\n",
      "from matplotlib import pyplot as plt\n",
      "from scipy.integrate import odeint\n",
      "\n",
      "class Body:\n",
      "    '''\n",
      "    Body simulates a negligible mass body experiencing the gravity\n",
      "    of a much larger object. \n",
      "    '''\n",
      "    # format [x position, x velocity, y position, y velocity]\n",
      "    loc = [0, 0, 0, 0]\n",
      "    constant = 0;\n",
      "    \n",
      "    def __init__(self, pos, vel, gamma, M, S, time):\n",
      "        \"\"\"\n",
      "        @param pos - initial position (x, y)\n",
      "        @param vel - initial velocity (x, y)\n",
      "        \"\"\"\n",
      "        try:\n",
      "            self.loc = [pos[0], vel[0], pos[1], vel[1]];\n",
      "            self.constant = -gamma * (M + S);\n",
      "            \n",
      "            self.Trajectory(time);\n",
      "        except:\n",
      "            print \"Body failed to initialize\";\n",
      "    \n",
      "    def __str__(self):\n",
      "        return \"location:\\n\" + str(self.loc[:10]);\n",
      "    \n",
      "    def Trajectory(self, time):\n",
      "        print \"Calulating trajectory\";\n",
      "\n",
      "        # function used by odeint which returns various derivitives\n",
      "        def R(r, t):\n",
      "            C = self.constant;\n",
      "            xaccel = np.cos(np.arctan2(r[2], r[0])) * C / (r[0]**2 + r[2]**2);\n",
      "            xvel = r[1];\n",
      "            yaccel = np.sin(np.arctan2(r[2], r[0])) * C / (r[0]**2 + r[2]**2);\n",
      "            yvel = r[3];\n",
      "\n",
      "            return np.array([xvel, xaccel, yvel, yaccel])\n",
      "\n",
      "        try:\n",
      "            self.loc = odeint(R, self.loc, time);        \n",
      "        except:\n",
      "            print \"Trajectory() failed.\";\n",
      "\n",
      "    def Plot(self):\n",
      "        x = self.loc[:,0]; #extracts the x values from loc\n",
      "        y = self.loc[:,2]; #extracts the y values from loc\n",
      "\n",
      "        plt.plot(x, y);\n",
      "        plt.scatter(0, 0, s=400, c = 'r')\n",
      "        plt.annotate(\"t = 0\", xy = (x[0], y[0]), xytext=(x[0] + 2, y[0] - 15), \\\n",
      "            arrowprops=dict(facecolor='black', width=.5));\n",
      "        plt.grid();\n",
      "        plt.axis('equal');\n",
      "        plt.show();\n",
      "        \n",
      "    def GetTrajectory(self):\n",
      "        return self.loc[:,0], self.loc[:,2];\n",
      "\n",
      "\n",
      "        \n"
     ],
     "language": "python",
     "metadata": {},
     "outputs": [],
     "prompt_number": 140
    },
    {
     "cell_type": "code",
     "collapsed": false,
     "input": [
      "class Star(Body):\n",
      "     \n",
      "    loc = [];\n",
      "        \n",
      "    def __init__(self, radius, angle, sLoc, gamma, M, S, time):\n",
      "        \"\"\"\n",
      "        @param radius - initial radius measured from local galaxy center\n",
      "        @param angle - initial angle of this stars pos relative to galaxy center\n",
      "        \"\"\"\n",
      "        \n",
      "        try:\n",
      "            x, vx, y, vy = circleInit(radius, angle, gamma, M);\n",
      "            self.loc = [x, vx, y, vy, sLoc[0], sLoc[1], sLoc[2], sLoc[3]];\n",
      "\n",
      "            self.gamma = gamma;\n",
      "            self.M = M;\n",
      "            self.S = S;\n",
      "            self.Trajectory(time);\n",
      "        except:\n",
      "            print \"Star failed to initialize\";\n",
      "\n",
      "    def Trajectory(self, time):\n",
      "        print \"Calulating star trajectory\";\n",
      "\n",
      "        # function used by odeint which returns various derivitives\n",
      "        def R(r, t):\n",
      "            C = -gamma * (M + S);\n",
      "            \n",
      "            xpos = r[0];\n",
      "            xvel = r[1];\n",
      "            ypos = r[2];\n",
      "            yvel = r[3];\n",
      "            Sxpos = r[4];\n",
      "            Sxvel = r[5];\n",
      "            Sypos = r[6];\n",
      "            Syvel = r[7];\n",
      "            rhoX = Sxpos - xpos;\n",
      "            rhoY = Sypos - ypos;\n",
      "            \n",
      "            xaccel_term1 = (-gamma * M / (xpos**2 + ypos**2)) * np.cos(np.arctan2(ypos, xpos));\n",
      "            yaccel_term1 = (-gamma * M / (xpos**2 + ypos**2)) * np.sin(np.arctan2(ypos, xpos));\n",
      "\n",
      "            xaccel_term2 = (-gamma * S / (rhoX**2 + rhoY**2)) * np.cos(np.arctan2(rhoY, rhoX)); \n",
      "            yaccel_term2 = (-gamma * S / (rhoX**2 + rhoY**2)) * np.sin(np.arctan2(rhoY, rhoX)); \n",
      "            \n",
      "            xaccel_term3 = (-gamma * S / (Sxpos**2 + Sypos**2)) * np.cos(np.arctan2(Sypos, Sxpos));\n",
      "            yaccel_term3 = (-gamma * S / (Sxpos**2 + Sypos**2)) * np.sin(np.arctan2(Sypos, Sxpos));\n",
      "\n",
      "            xaccel = xaccel_term1 - xaccel_term2 + xaccel_term3;\n",
      "            yaccel = yaccel_term1 - yaccel_term2 + yaccel_term3;\n",
      "\n",
      "            Sxaccel = np.cos(np.arctan2(r[6], r[4])) * C / (r[4]**2 + r[6]**2);\n",
      "            Syaccel = np.sin(np.arctan2(r[6], r[4])) * C / (r[4]**2 + r[6]**2);\n",
      "\n",
      "            return np.array([xvel, xaccel, yvel, yaccel,   \\\n",
      "                             Sxvel, Sxaccel, Syvel, Syaccel])\n",
      "\n",
      "        try:\n",
      "            self.loc = odeint(R, self.loc, time);        \n",
      "        except:\n",
      "            print \"Trajectory() failed.\";\n",
      "\n",
      "    def Plot(self):\n",
      "        x = self.loc[:,0]; #extracts the x values from loc\n",
      "        y = self.loc[:,2]; #extracts the y values from loc\n",
      "        Sx = self.loc[:,4];\n",
      "        Sy = self.loc[:,6];\n",
      "\n",
      "        plt.plot(x, y, label = 'This Star');\n",
      "        plt.plot(Sx, Sy, \"b*\", label = 'Other Galaxy')\n",
      "        \n",
      "        plt.scatter(0, 0, s=400, c = 'r')\n",
      "        \n",
      "        plt.annotate(\"t = 0\", xy = (x[0], y[0]), xytext=(x[0] + 2, y[0] - 15), \\\n",
      "            arrowprops=dict(facecolor='black', width=.5));\n",
      "        \n",
      "        plt.grid();\n",
      "        plt.axis('equal');\n",
      "        plt.xlim(-10, 10);\n",
      "        plt.ylim(-10, 10);\n",
      "        \n",
      "        plt.legend(loc=\"best\");\n",
      "        plt.show();\n",
      "        \n",
      "    def circleInit(radius, angle, gamma, M):\n",
      "    \n",
      "        posx = radius * np.cos(angle);\n",
      "        posy = radius * np.sin(angle);\n",
      "        accel = gamma * M;\n",
      "        vel = np.sqrt(np.abs(accel / radius));\n",
      "        velx = vel * np.cos(angle + np.pi/2.);\n",
      "        vely = vel * np.sin(angle + np.pi/2.);\n",
      "\n",
      "        return [posx, velx, posy, vely];"
     ],
     "language": "python",
     "metadata": {},
     "outputs": [],
     "prompt_number": 155
    },
    {
     "cell_type": "code",
     "collapsed": false,
     "input": [
      "gamma = 25.;\n",
      "M = 1.;\n",
      "S = 1.;\n",
      "timeLimit = 20.;\n",
      "resolution = 4\n",
      "time = np.linspace(0, timeLimit, resolution * (timeLimit + 1))"
     ],
     "language": "python",
     "metadata": {},
     "outputs": [],
     "prompt_number": 142
    },
    {
     "cell_type": "code",
     "collapsed": false,
     "input": [
      "body = Body([10, 25], [1, -3], gamma, M, S, time);\n",
      "#print str(body);\n",
      "body.Plot();"
     ],
     "language": "python",
     "metadata": {},
     "outputs": [
      {
       "output_type": "stream",
       "stream": "stdout",
       "text": [
        "Calulating trajectory\n"
       ]
      },
      {
       "metadata": {},
       "output_type": "display_data",
       "png": "[encoded data removed]",
       "text": [
        "<matplotlib.figure.Figure at 0x2a853d0>"
       ]
      }
     ],
     "prompt_number": 143
    },
    {
     "cell_type": "code",
     "collapsed": false,
     "input": [
      "star = Star(5, 0, body.loc[0], gamma, M, S, time);\n",
      "star.Plot();"
     ],
     "language": "python",
     "metadata": {},
     "outputs": [
      {
       "output_type": "stream",
       "stream": "stdout",
       "text": [
        "Calulating trajectory\n"
       ]
      },
      {
       "metadata": {},
       "output_type": "display_data",
       "png": "[encoded data removed]",
       "text": [
        "<matplotlib.figure.Figure at 0x2b0e590>"
       ]
      }
     ],
     "prompt_number": 144
    },
    {
     "cell_type": "markdown",
     "metadata": {},
     "source": [
      "$a = \\frac{v^{2}}{r}$"
     ]
    },
    {
     "cell_type": "code",
     "collapsed": false,
     "input": [
      "def circleInit(radius, angle, gamma, M):\n",
      "    \n",
      "    posx = radius * np.cos(angle);\n",
      "    posy = radius * np.sin(angle);\n",
      "    accel = gamma * M;\n",
      "    vel = np.sqrt(np.abs(accel / radius));\n",
      "    velx = vel * np.cos(angle + np.pi/2.);\n",
      "    vely = vel * np.sin(angle + np.pi/2.);\n",
      "    \n",
      "    return [posx, velx, posy, vely];\n",
      "\n",
      "def plotCircle(posx, velx, posy, vely, gamma, M):\n",
      "    traj = [posx, velx, posy, vely];\n",
      "    \n",
      "    def R(r, t):\n",
      "        xpos = r[0];\n",
      "        xvel = r[1];\n",
      "        ypos = r[2];\n",
      "        yvel = r[3];\n",
      "        \n",
      "        xaccel = (-gamma * M / (xpos**2 + ypos**2)) * np.cos(np.arctan2(ypos, xpos));\n",
      "        yaccel = (-gamma * M / (xpos**2 + ypos**2)) * np.sin(np.arctan2(ypos, xpos));\n",
      "        \n",
      "        return [xvel, xaccel, yvel, yaccel];\n",
      "    \n",
      "    traj = odeint(R, traj, np.linspace(0, 20, 4 * 20));\n",
      "    plt.grid();\n",
      "    plt.scatter(0, 0);\n",
      "    plt.axis(\"equal\");\n",
      "    plt.plot(traj[:,0], traj[:,2]);"
     ],
     "language": "python",
     "metadata": {},
     "outputs": [],
     "prompt_number": 145
    },
    {
     "cell_type": "code",
     "collapsed": false,
     "input": [
      "posx, velx, posy, vely = circleInit(5., 3.*np.pi/4., gamma, M);\n",
      "plotCircle(posx, velx, posy, vely, gamma, M);"
     ],
     "language": "python",
     "metadata": {},
     "outputs": [
      {
       "metadata": {},
       "output_type": "display_data",
       "png": "[encoded data removed]",
       "text": [
        "<matplotlib.figure.Figure at 0x2eb1150>"
       ]
      }
     ],
     "prompt_number": 146
    },
    {
     "cell_type": "markdown",
     "metadata": {},
     "source": [
      "<p style-\"font-size: 14px\">\n",
      "<h3>New Todo</h3>\n",
      "<ul>\n",
      "    <li>have an array of stars at different positions</li>\n",
      "    <li>scatter plot at a desired time</li>\n",
      "</ul>\n",
      "</p>"
     ]
    },
    {
     "cell_type": "code",
     "collapsed": false,
     "input": [
      "class Galaxy:\n",
      "    \n",
      "    rings = [];\n",
      "    gamma = M = S = 0.;\n",
      "    \n",
      "    def __init__(self, gamma, M, S):\n",
      "        self.gamma = gamma;\n",
      "        self.M = M;\n",
      "        self.S = S;\n",
      "        \n",
      "    def setS(self, posx, posy, velx, vely):\n",
      "        '''\n",
      "           requirements: setTime must already have been called\n",
      "           Sets up and calculates the trajectory of the other galaxy S\n",
      "        '''\n",
      "        self.S_Galaxy = Body((posx, posy), (velx, vely), self.gamma, self.M, self.S, self.time)\n",
      "        \n",
      "    def setTime(self, timeLimit, resolution):\n",
      "        '''sets up the array of time for the ODE'''\n",
      "        self.time = np.linspace(0, timeLimit, resolution * (timeLimit + 1));\n",
      "    \n",
      "    def makeRing(self, radius, numStars):\n",
      "        '''requirements: setS must already have be called'''\n",
      "        ring = [];\n",
      "        for i in range(numStars):\n",
      "            angle = 2 * np.pi * i / numStars;\n",
      "            ring.append(Star(radius, angle, self.S_Galaxy.loc[0], self.gamma, self.M, self.S, self.time));\n",
      "            \n",
      "        self.rings.append(ring);\n",
      "        \n",
      "    def snapShot(self, time):\n",
      "        starXs = [];\n",
      "        starYs = [];\n",
      "        title = \"Snapshot at time \"+str(time);\n",
      "        \n",
      "        for ring in self.rings:\n",
      "            for star in ring:\n",
      "                starXs.append(star.loc[time, 0]);\n",
      "                starYs.append(star.loc[time, 2]);\n",
      "        \n",
      "        plt.scatter(0, 0);                \n",
      "        plt.scatter(starXs, starYs)\n",
      "        plt.scatter(self.S_Galaxy.loc[time, 0], self.S_Galaxy.loc[time, 2]);\n",
      "        \n",
      "        plt.title(title);\n",
      "        plt.axis(\"equal\");\n",
      "        plt.xlim(-20, 20);\n",
      "        plt.ylim(-20, 20);\n",
      "        plt.show();"
     ],
     "language": "python",
     "metadata": {},
     "outputs": [],
     "prompt_number": 180
    },
    {
     "cell_type": "heading",
     "level": 2,
     "metadata": {},
     "source": [
      "Galaxy Test"
     ]
    },
    {
     "cell_type": "code",
     "collapsed": false,
     "input": [
      "gamma = 25.;\n",
      "M = 1.;\n",
      "S = 1.;\n",
      "timeLimit = 20.;\n",
      "resolution = 4\n",
      "time = np.linspace(0, timeLimit, resolution * (timeLimit + 1))"
     ],
     "language": "python",
     "metadata": {},
     "outputs": [],
     "prompt_number": 181
    },
    {
     "cell_type": "code",
     "collapsed": false,
     "input": [
      "galaxy = Galaxy(gamma, M, S);\n",
      "galaxy.setTime(timeLimit, resolution);\n",
      "galaxy.setS(10, 1, 25, -3);\n",
      "galaxy.makeRing(5, 8);\n",
      "galaxy.makeRing(4, 10);\n",
      "galaxy.snapShot(0);\n",
      "galaxy.snapShot(1);\n",
      "galaxy.snapShot(20);"
     ],
     "language": "python",
     "metadata": {},
     "outputs": [
      {
       "output_type": "stream",
       "stream": "stdout",
       "text": [
        "Calulating trajectory\n",
        "Calulating star trajectory\n",
        "Calulating star trajectory"
       ]
      },
      {
       "output_type": "stream",
       "stream": "stdout",
       "text": [
        "\n",
        "Calulating star trajectory"
       ]
      },
      {
       "output_type": "stream",
       "stream": "stdout",
       "text": [
        "\n",
        "Calulating star trajectory\n",
        "Calulating star trajectory"
       ]
      },
      {
       "output_type": "stream",
       "stream": "stdout",
       "text": [
        "\n",
        "Calulating star trajectory\n",
        "Calulating star trajectory"
       ]
      },
      {
       "output_type": "stream",
       "stream": "stdout",
       "text": [
        "\n",
        "Calulating star trajectory\n",
        "Calulating star trajectory"
       ]
      },
      {
       "output_type": "stream",
       "stream": "stdout",
       "text": [
        "\n",
        "Calulating star trajectory\n",
        "Calulating star trajectory"
       ]
      },
      {
       "output_type": "stream",
       "stream": "stdout",
       "text": [
        "\n",
        "Calulating star trajectory\n",
        "Calulating star trajectory"
       ]
      },
      {
       "output_type": "stream",
       "stream": "stdout",
       "text": [
        "\n",
        "Calulating star trajectory\n",
        "Calulating star trajectory"
       ]
      },
      {
       "output_type": "stream",
       "stream": "stdout",
       "text": [
        "\n",
        "Calulating star trajectory\n",
        "Calulating star trajectory"
       ]
      },
      {
       "output_type": "stream",
       "stream": "stdout",
       "text": [
        "\n",
        "Calulating star trajectory\n"
       ]
      },
      {
       "metadata": {},
       "output_type": "display_data",
       "png": "[encoded data removed]",
       "text": [
        "<matplotlib.figure.Figure at 0x304f290>"
       ]
      },
      {
       "metadata": {},
       "output_type": "display_data",
       "png": "[encoded data removed]",
       "text": [
        "<matplotlib.figure.Figure at 0x302dc90>"
       ]
      },
      {
       "metadata": {},
       "output_type": "display_data",
       "png": "[encoded data removed]",
       "text": [
        "<matplotlib.figure.Figure at 0x2edc750>"
       ]
      }
     ],
     "prompt_number": 182
    },
    {
     "cell_type": "heading",
     "level": 2,
     "metadata": {},
     "source": [
      "Animation"
     ]
    },
    {
     "cell_type": "code",
     "collapsed": false,
     "input": [],
     "language": "python",
     "metadata": {},
     "outputs": []
    }
   ],
   "metadata": {}
  }
 ]
}