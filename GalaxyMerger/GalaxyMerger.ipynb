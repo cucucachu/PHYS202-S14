{
 "metadata": {
  "name": "",
  "signature": "sha256:c7779fae2ad9f1a62a839c1fdb75191092d9a1e04cc0028d3637147caa6704aa"
 },
 "nbformat": 3,
 "nbformat_minor": 0,
 "worksheets": [
  {
   "cells": [
    {
     "cell_type": "markdown",
     "metadata": {},
     "source": [
      "<h1 style=\"text-align: center\">Galaxy Merger<h1>"
     ]
    },
    {
     "cell_type": "markdown",
     "metadata": {},
     "source": [
      "<div style=\"text-align: center\">\n",
      "author: Cody Jones\n",
      "<br>final project for PHYS202 - Physics on the computer, at Cal Poly San Luis Obispo\n",
      "</div>"
     ]
    },
    {
     "cell_type": "heading",
     "level": 3,
     "metadata": {},
     "source": [
      "The Project:"
     ]
    },
    {
     "cell_type": "markdown",
     "metadata": {},
     "source": [
      "<p>    This project aims to simulate the tidal effects of two galaxies passing near one another. It is based on a similar project completed in 1972 at MIT by two brothers, <a href=\"http://articles.adsabs.harvard.edu/cgi-bin/nph-iarticle_query?1972ApJ...178..623T&data_type=PDF_HIGH&whole_paper=YES&type=PRINTER&filetype=.pdf\">Toomre and Toomre</a>. Their goal was to test the hypothesis that galactic \"bridges and tails\" witnessed by astronomers are the consequence of two galaxies passing each other and exhibiting tidal forces on each other. Their simulation worked with four scenaries which I have reproduced. The simulation reduces the complexity of the problem by making a few simplifying assumptions. The first is that the \"stars\" which orbit the galaxy center are taken to have negligible mass compared to the galaxy center. The problem is also restricted to two dimensions. </p>"
     ]
    },
    {
     "cell_type": "markdown",
     "metadata": {},
     "source": [
      "<p>In order to calculate the trajectories of the stars and the flyby galaxy, I have used the following equations taken from another paper by <a href=\"http://articles.adsabs.harvard.edu/cgi-bin/nph-iarticle_query?1963ZA.....58...12P&data_type=PDF_HIGH&whole_paper=YES&type=PRINTER&filetype=.pdf\">Pfleiderer</a>:</p>\n",
      "<div style=\"text-align: center\">\n",
      "<br><br>$\\ddot{\\mathbf{r}} = -\\gamma \\left\\{ \\frac{M}{r^3}\\mathbf{r} -\\frac{S}{\\rho^3}\\boldsymbol{\\rho} + \\frac{S}{R^3}\\boldsymbol\\Re \\right\\}$ <br><br> $\\ddot{\\boldsymbol\\Re} = -\\gamma \\frac{M+S}{R^3}\\boldsymbol\\Re$ <br><br> \n",
      "<p></div>\n",
      "<p> where:\n",
      "    <ul> \n",
      "    <li>$\\gamma$ is the gravitational constant</li>\n",
      "    <li>$M$ is the central mass of the main galaxy and $S$ is the central mass of the disrupting glaxy.</li>\n",
      "    <li>$\\mathbf{r}$ is the vector from mass $M$ to the massless point particle $m$, representing a single (massless) star orbiting the main galaxy.</li>\n",
      "    <li>$\\boldsymbol\\Re$ is the radius vector from $M$ to $S$.</li>\n",
      "    <li>$\\boldsymbol{\\rho} = \\boldsymbol{\\Re} - \\boldsymbol{r}$</li>\n",
      "    </ul></p>"
     ]
    },
    {
     "cell_type": "heading",
     "level": 2,
     "metadata": {},
     "source": [
      "The Code"
     ]
    },
    {
     "cell_type": "heading",
     "level": 5,
     "metadata": {},
     "source": [
      "GalaxyMergerLib.py"
     ]
    },
    {
     "cell_type": "markdown",
     "metadata": {},
     "source": [
      "<p>The main functionality of this project is implemented in the python script GalaxyMergerLib.py. It is composed of three main classes: Body, Star, and Galaxy.\n",
      "<ul>\n",
      "    <li>Body\n",
      "    <ul>\n",
      "        <li>Constructor arguments:\n",
      "        <ul>\n",
      "            <li>pos - Initial position</li>\n",
      "            <li>vel -Initial velocity</li>\n",
      "            <li>gamma - The gravitational constant</li>\n",
      "            <li>M, S - the masses of this body and the mass of the center galaxy</li>\n",
      "            <li>time - a numpy array which will be used in the trajectory calculations</li>\n",
      "        </ul>\n",
      "        </li>\n",
      "        <li>Methods:\n",
      "        <ul>\n",
      "            <li>trajectory() - calculates the body's trajectory based on the equation \n",
      "                <div style=\"margin-left: 40px\">$\\ddot{\\boldsymbol\\Re} = -\\gamma \\frac{M+S}{R^3}\\boldsymbol\\Re$</div>\n",
      "            </li>\n",
      "            <ul>\n",
      "                <li>Arguments:\n",
      "                <ul>\n",
      "                    <li>time - a numpy array which will be used in the trajectory calculations</li>\n",
      "                </ul>\n",
      "                </li>\n",
      "            </ul>\n",
      "            <li>changeView() - adjusts the body's location arrays such that the plot and animations views have a new origin.</li>\n",
      "            <ul>\n",
      "                <li>Arguments:\n",
      "                <ul>\n",
      "                    <li>newX, newY - the new origin. Can be either integers or numpy arrays.</li>\n",
      "                </ul>\n",
      "                </li>\n",
      "            </ul>\n",
      "        </ul>\n",
      "        </li>\n",
      "    </ul>\n",
      "    </li>\n",
      "    \n",
      "    \n",
      "    <li>Star (subclass of Body)\n",
      "    <ul>\n",
      "        <li>Constructor arguments:\n",
      "        <ul>\n",
      "            <li>radius - Initial radius from Galaxy center.</li>\n",
      "            <li>angle - Initial angle for the position vector.</li>\n",
      "            <li>sLoc - a list of four numbers, the initial position and velocity of the flyby Galaxy</li>\n",
      "            <li>gamma - The gravitational constant</li>\n",
      "            <li>M, S - the masses of the two galaxy centers</li>\n",
      "            <li>time - a numpy array which will be used in the trajectory calculations</li>\n",
      "        </ul>\n",
      "        </li>\n",
      "        <li>Methods:\n",
      "        <ul>\n",
      "            <li>trajectory() - calculates the stars's trajectory based on the equation\n",
      "                <div style=\"margin-left: 40px\">$\\ddot{\\mathbf{r}} = -\\gamma \\left\\{ \\frac{M}{r^3}\\mathbf{r} -\\frac{S}{\\rho^3}\\boldsymbol{\\rho} + \\frac{S}{R^3}\\boldsymbol\\Re \\right\\}$</div>\n",
      "            </li>\n",
      "            <ul>\n",
      "                <li>Arguments:\n",
      "                <ul>\n",
      "                    <li>time - a numpy array which will be used in the trajectory calculations</li>\n",
      "                </ul>\n",
      "                </li>\n",
      "            </ul>\n",
      "        </ul>\n",
      "        </li>\n",
      "    </ul>\n",
      "    </li>\n",
      "    \n",
      "    \n",
      "    <li>Galaxy\n",
      "    <ul>\n",
      "        <li>Constructor arguments:\n",
      "        <ul>\n",
      "            <li>gamma - The gravitational constant</li>\n",
      "            <li>M, S - the masses of the two galaxy centers</li>\n",
      "        </ul>\n",
      "        </li>\n",
      "        <li>Methods:\n",
      "        <ul>\n",
      "            <li>setS() - initializes a Body which will be the flyby galaxy\n",
      "            <ul>\n",
      "                <li>Arguments:\n",
      "                <ul>\n",
      "                    <li>posx, posy - the initial x and y positions of the flyby galaxy</li>\n",
      "                    <li>velx, vely - the initial x and y velocities of the flyby galaxy</li>\n",
      "                </ul>\n",
      "                </li>\n",
      "            </ul>\n",
      "            </li>\n",
      "            <li>setTime() - initializes self.time as a numpy array from zero to |endTime| in steps of 1 / |resolution|\n",
      "            <ul>\n",
      "                <li>Arguments:\n",
      "                <ul>\n",
      "                    <li>timeLimit - the end time of the simulation.</li>\n",
      "                    <li>resolution - the number of data points per unit time step</li>\n",
      "                </ul>\n",
      "                </li>\n",
      "            </ul>\n",
      "            </li>\n",
      "            <li>makeRing() - initializes |numStars| stars equaly spaced around a circle of radius |radius|\n",
      "            <ul>\n",
      "                <li>Arguments:\n",
      "                <ul>\n",
      "                    <li>radius - the radius from the Galaxy center at which to place the stars</li>\n",
      "                    <li>numStars - the number of stars in this ring</li>\n",
      "                    <li>clockWise - if true, the stars will orbit in a clockwise direction, defaults to false.</li>\n",
      "                </ul>\n",
      "                </li>\n",
      "            </ul>\n",
      "            </li>\n",
      "            <li>makeStars() - makes |rings| rings of |numStars| by calling makeRing()\n",
      "            <ul>\n",
      "                <li>Arguments:\n",
      "                <ul>\n",
      "                    <li>rings - the number of rings to make</li>\n",
      "                    <li>numStars - the number of stars per ring</li>\n",
      "                    <li>clockWise - if true, stars will orbit in a clockwise direction.</li>\n",
      "                </ul>\n",
      "                </li>\n",
      "            </ul>\n",
      "            </li>\n",
      "            <li>makeToomreStars() - initializes stars to follow the setup used in the Toomre paper.\n",
      "            <ul>\n",
      "                <li>Arguements:\n",
      "                <ul>\n",
      "                    <li>clockWise - if true, stars will orbit in a clockwise direction.</li>\n",
      "                </ul>\n",
      "                </li>\n",
      "            </ul>\n",
      "            </li>\n",
      "            <li>changeView() - adjusts the plotting and animation to a new static origin.\n",
      "            <ul>\n",
      "                <li>Arguements:\n",
      "                <ul>\n",
      "                    <li>newX, newY - coordinates of the new origin</li>\n",
      "                </ul>\n",
      "                </li>\n",
      "            </ul>\n",
      "            </li>\n",
      "            <li>changeViewS() - adjusts the plotting and animation to the perspective of the flyby galaxy.\n",
      "            </li>\n",
      "            <li>snapShot() - plots the simulation at a given time |time|.\n",
      "            <ul>\n",
      "                <li>Arguements:\n",
      "                <ul>\n",
      "                    <li>time - the time, in whole time units, at which to make the plot.</li>\n",
      "                </ul>\n",
      "                </li>\n",
      "            </ul>\n",
      "            </li>\n",
      "            <li>timeLapse() - produces 10 plots of the system using snapShot()\n",
      "            </li>\n",
      "            <li>animationSetup() - Setups the elements necessary for matplotlib.animation.funcanimation.\n",
      "            </li>\n",
      "            <li>animate() - animates the system using matplotlib.animation.funcanimation.\n",
      "            <ul>\n",
      "                <li>Arguements:\n",
      "                <ul>\n",
      "                    <li>save - if True, the animation will be saved to the working directory</li>\n",
      "                    <li>name - the filename to save the animation as</li>\n",
      "                </ul>\n",
      "                </li>\n",
      "            </ul>\n",
      "            </li>\n",
      "        </ul>\n",
      "        </li>\n",
      "    </ul>\n",
      "    </li>\n",
      "</ul>"
     ]
    },
    {
     "cell_type": "code",
     "collapsed": false,
     "input": [
      "%load GalaxyMergerLib.py"
     ],
     "language": "python",
     "metadata": {},
     "outputs": [],
     "prompt_number": 1
    },
    {
     "cell_type": "heading",
     "level": 5,
     "metadata": {},
     "source": [
      "Toomre.py"
     ]
    },
    {
     "cell_type": "markdown",
     "metadata": {},
     "source": [
      "Toomre.py supplies four functions which perform the simulations as described in the Toomre paper. <br>\n",
      "<div style=\"text-align: center\">**Warning: The Toomre simulations are processor intensive and take minutes to complete.**</div>"
     ]
    },
    {
     "cell_type": "code",
     "collapsed": false,
     "input": [
      "%load Toomre.py"
     ],
     "language": "python",
     "metadata": {},
     "outputs": [],
     "prompt_number": 2
    },
    {
     "cell_type": "heading",
     "level": 5,
     "metadata": {},
     "source": [
      "GalaxyMerger.py"
     ]
    },
    {
     "cell_type": "markdown",
     "metadata": {},
     "source": [
      "GalaxyMerger.py is simply a script which runs all four simulations. <br>\n",
      "<div style=\"text-align: center\">**Warning: The Toomre simulations are processor intensive and take minutes to complete.**</div>"
     ]
    },
    {
     "cell_type": "code",
     "collapsed": false,
     "input": [
      "%loadpy GalaxyMerger.py"
     ],
     "language": "python",
     "metadata": {},
     "outputs": [],
     "prompt_number": 3
    },
    {
     "cell_type": "heading",
     "level": 2,
     "metadata": {},
     "source": [
      "Results"
     ]
    },
    {
     "cell_type": "markdown",
     "metadata": {},
     "source": [
      "The simulation was largely succesful. All four simulations show that galactic tails and bridges do form when two galaxies pass by one another. Some of the simulations exhibit a bug in which some of the stars randomly jump from the galaxy center to a random point in space. Although this bug causes us to lose some information about those stars, enough of the stars obey the algorithm that the tidal forces can be observed."
     ]
    },
    {
     "cell_type": "heading",
     "level": 5,
     "metadata": {},
     "source": [
      "Toomre One, Retrograde Passage of equal mass bodies."
     ]
    },
    {
     "cell_type": "code",
     "collapsed": false,
     "input": [
      "from IPython.display import YouTubeVideo\n",
      "YouTubeVideo('mRZesypYu5c?t=14s')"
     ],
     "language": "python",
     "metadata": {},
     "outputs": [
      {
       "html": [
        "\n",
        "        <iframe\n",
        "            width=\"400\"\n",
        "            height=300\"\n",
        "            src=\"https://www.youtube.com/embed/mRZesypYu5c?t=14s\"\n",
        "            frameborder=\"0\"\n",
        "            allowfullscreen\n",
        "        ></iframe>\n",
        "        "
       ],
       "metadata": {},
       "output_type": "pyout",
       "prompt_number": 1,
       "text": [
        "<IPython.lib.display.YouTubeVideo at 0x217ba90>"
       ]
      }
     ],
     "prompt_number": 1
    },
    {
     "cell_type": "heading",
     "level": 5,
     "metadata": {},
     "source": [
      "Toomre Two, Direct Passage of equal mass bodies."
     ]
    },
    {
     "cell_type": "code",
     "collapsed": false,
     "input": [
      "from IPython.display import YouTubeVideo\n",
      "YouTubeVideo('khRUMjopBCU')\n",
      "#The video is mistakingly titled \"Toomre1\", but is in fact the simulation of the direct passage of equal mass bodies."
     ],
     "language": "python",
     "metadata": {},
     "outputs": [
      {
       "html": [
        "\n",
        "        <iframe\n",
        "            width=\"400\"\n",
        "            height=300\"\n",
        "            src=\"https://www.youtube.com/embed/khRUMjopBCU\"\n",
        "            frameborder=\"0\"\n",
        "            allowfullscreen\n",
        "        ></iframe>\n",
        "        "
       ],
       "metadata": {},
       "output_type": "pyout",
       "prompt_number": 13,
       "text": [
        "<IPython.lib.display.YouTubeVideo at 0x14f1cd0>"
       ]
      }
     ],
     "prompt_number": 13
    },
    {
     "cell_type": "heading",
     "level": 5,
     "metadata": {},
     "source": [
      "Toomre Three, Retrograde Passage a 1/4 mass body."
     ]
    },
    {
     "cell_type": "code",
     "collapsed": false,
     "input": [
      "from IPython.display import YouTubeVideo\n",
      "YouTubeVideo('2upLVHH9le4')"
     ],
     "language": "python",
     "metadata": {},
     "outputs": [
      {
       "html": [
        "\n",
        "        <iframe\n",
        "            width=\"400\"\n",
        "            height=300\"\n",
        "            src=\"https://www.youtube.com/embed/2upLVHH9le4\"\n",
        "            frameborder=\"0\"\n",
        "            allowfullscreen\n",
        "        ></iframe>\n",
        "        "
       ],
       "metadata": {},
       "output_type": "pyout",
       "prompt_number": 10,
       "text": [
        "<IPython.lib.display.YouTubeVideo at 0x14f17d0>"
       ]
      }
     ],
     "prompt_number": 10
    },
    {
     "cell_type": "code",
     "collapsed": false,
     "input": [
      "from IPython.display import YouTubeVideo\n",
      "YouTubeVideo('Qa73L_R_fPQ')"
     ],
     "language": "python",
     "metadata": {},
     "outputs": [
      {
       "html": [
        "\n",
        "        <iframe\n",
        "            width=\"400\"\n",
        "            height=300\"\n",
        "            src=\"https://www.youtube.com/embed/Qa73L_R_fPQ\"\n",
        "            frameborder=\"0\"\n",
        "            allowfullscreen\n",
        "        ></iframe>\n",
        "        "
       ],
       "metadata": {},
       "output_type": "pyout",
       "prompt_number": 4,
       "text": [
        "<IPython.lib.display.YouTubeVideo at 0x2190990>"
       ]
      }
     ],
     "prompt_number": 4
    },
    {
     "cell_type": "heading",
     "level": 5,
     "metadata": {},
     "source": [
      "Toomre Four, Retrograde Passage of a 4x mass body."
     ]
    },
    {
     "cell_type": "code",
     "collapsed": false,
     "input": [
      "from IPython.display import YouTubeVideo\n",
      "YouTubeVideo('Grt01_sIO0M')"
     ],
     "language": "python",
     "metadata": {},
     "outputs": [
      {
       "html": [
        "\n",
        "        <iframe\n",
        "            width=\"400\"\n",
        "            height=300\"\n",
        "            src=\"https://www.youtube.com/embed/Grt01_sIO0M\"\n",
        "            frameborder=\"0\"\n",
        "            allowfullscreen\n",
        "        ></iframe>\n",
        "        "
       ],
       "metadata": {},
       "output_type": "pyout",
       "prompt_number": 11,
       "text": [
        "<IPython.lib.display.YouTubeVideo at 0x14f1bd0>"
       ]
      }
     ],
     "prompt_number": 11
    },
    {
     "cell_type": "code",
     "collapsed": false,
     "input": [
      "from IPython.display import YouTubeVideo\n",
      "YouTubeVideo('JIwDgdpHW_A')"
     ],
     "language": "python",
     "metadata": {},
     "outputs": [
      {
       "html": [
        "\n",
        "        <iframe\n",
        "            width=\"400\"\n",
        "            height=300\"\n",
        "            src=\"https://www.youtube.com/embed/JIwDgdpHW_A\"\n",
        "            frameborder=\"0\"\n",
        "            allowfullscreen\n",
        "        ></iframe>\n",
        "        "
       ],
       "metadata": {},
       "output_type": "pyout",
       "prompt_number": 1,
       "text": [
        "<IPython.lib.display.YouTubeVideo at 0x1ac7b10>"
       ]
      }
     ],
     "prompt_number": 1
    },
    {
     "cell_type": "heading",
     "level": 2,
     "metadata": {},
     "source": [
      "Demo"
     ]
    },
    {
     "cell_type": "code",
     "collapsed": false,
     "input": [
      "import GalaxyMergerLib as GM;\n",
      "import numpy as np;\n",
      "\n",
      "gamma = 449.93; # units: kpc * m_unit * ( kpc / t_unit )^2;\n",
      "M = 100.; # units 1E10 Solar Masses\n",
      "S = 25.; # units 1E10 Solar Masses\n",
      "timeLimit = 10.; # 100 million years\n",
      "resolution = 40;\n",
      "time = np.linspace(0, timeLimit, resolution * (timeLimit + 1));\n",
      "\n",
      "print \"Initializing Galaxy...\";\n",
      "galaxy = GM.Galaxy(gamma, M, S);\n",
      "galaxy.setTime(timeLimit, resolution);\n",
      "galaxy.setS(-60, 55, 28.495, 0);\n",
      "\n",
      "print \"Calculating trajectories...\";\n",
      "galaxy.makeStars(4, 4, True);\n",
      "\n",
      "#galaxy.timeLapse();\n",
      "\n",
      "print \"Working on animation...\";\n",
      "galaxy.animationSetup();\n",
      "print \"Animating...\";\n",
      "galaxy.animate();"
     ],
     "language": "python",
     "metadata": {},
     "outputs": [
      {
       "output_type": "stream",
       "stream": "stdout",
       "text": [
        "Initializing Galaxy...\n",
        "Calculating trajectories...\n",
        "25.0%"
       ]
      },
      {
       "output_type": "stream",
       "stream": "stdout",
       "text": [
        "\n",
        "50.0%"
       ]
      },
      {
       "output_type": "stream",
       "stream": "stdout",
       "text": [
        "\n",
        "75.0%"
       ]
      },
      {
       "output_type": "stream",
       "stream": "stdout",
       "text": [
        "\n",
        "100.0%"
       ]
      },
      {
       "output_type": "stream",
       "stream": "stdout",
       "text": [
        "\n",
        "Working on animation...\n",
        "Animating...\n"
       ]
      }
     ],
     "prompt_number": 3
    },
    {
     "cell_type": "code",
     "collapsed": false,
     "input": [],
     "language": "python",
     "metadata": {},
     "outputs": []
    }
   ],
   "metadata": {}
  }
 ]
}